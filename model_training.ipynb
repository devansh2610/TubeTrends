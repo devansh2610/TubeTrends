{
 "cells": [
  {
   "cell_type": "code",
   "execution_count": 1,
   "metadata": {},
   "outputs": [
    {
     "ename": "ModuleNotFoundError",
     "evalue": "No module named 'nltk'",
     "output_type": "error",
     "traceback": [
      "\u001b[1;31m---------------------------------------------------------------------------\u001b[0m",
      "\u001b[1;31mModuleNotFoundError\u001b[0m                       Traceback (most recent call last)",
      "Cell \u001b[1;32mIn[1], line 2\u001b[0m\n\u001b[0;32m      1\u001b[0m \u001b[38;5;28;01mimport\u001b[39;00m \u001b[38;5;21;01mpandas\u001b[39;00m \u001b[38;5;28;01mas\u001b[39;00m \u001b[38;5;21;01mpd\u001b[39;00m\n\u001b[1;32m----> 2\u001b[0m \u001b[38;5;28;01mfrom\u001b[39;00m \u001b[38;5;21;01mnltk\u001b[39;00m \u001b[38;5;28;01mimport\u001b[39;00m tokenize\n",
      "\u001b[1;31mModuleNotFoundError\u001b[0m: No module named 'nltk'"
     ]
    }
   ],
   "source": [
    "import pandas as pd\n",
    "from nltk import tokenize"
   ]
  },
  {
   "cell_type": "code",
   "execution_count": 36,
   "metadata": {},
   "outputs": [],
   "source": [
    "dataset = pd.read_csv('updated_dataset.csv')\n",
    "dataset = dataset.fillna(\"\")"
   ]
  },
  {
   "cell_type": "code",
   "execution_count": 5,
   "metadata": {},
   "outputs": [
    {
     "name": "stdout",
     "output_type": "stream",
     "text": [
      "1666455\n"
     ]
    }
   ],
   "source": [
    "all_tags = set()\n",
    "\n",
    "for tags in dataset[\"tags\"]:\n",
    "    if type(tags) is not str:\n",
    "        continue\n",
    "    for tag in tags.lower().split(\"|\"):\n",
    "        all_tags.add(tag)\n",
    "\n",
    "print(len(all_tags))"
   ]
  },
  {
   "cell_type": "code",
   "execution_count": 38,
   "metadata": {},
   "outputs": [],
   "source": [
    "for row in dataset.itertuples():\n",
    "    title = row.title.lower()\n",
    "    description = row.description.lower()\n",
    "\n",
    "    title_words = tokenize.word_tokenize(title)\n",
    "    description_words = tokenize.word_tokenize(description)\n",
    "\n",
    "    new_tags = set()\n",
    "\n",
    "    for words in title_words:\n",
    "        if words in all_tags:\n",
    "            new_tags.add(words)\n",
    "\n",
    "    for words in description_words:\n",
    "        if words in all_tags:\n",
    "            new_tags.add(words)\n",
    "\n",
    "    if row.tags != \"[None]\":\n",
    "        for given_tag in row.tags.lower().split(\"|\"):\n",
    "            new_tags.add(given_tag)\n",
    "\n",
    "    dataset.at[row.Index, \"tags\"] = \"|\".join(new_tags)"
   ]
  },
  {
   "cell_type": "code",
   "execution_count": 39,
   "metadata": {},
   "outputs": [],
   "source": [
    "dataset.to_csv(\"updated_dataset_tags.csv\", index=False)"
   ]
  },
  {
   "cell_type": "code",
   "execution_count": 5,
   "metadata": {},
   "outputs": [],
   "source": [
    "dataset = pd.read_csv(\"updated_dataset_tags.csv\")"
   ]
  },
  {
   "cell_type": "code",
   "execution_count": 7,
   "metadata": {},
   "outputs": [
    {
     "name": "stderr",
     "output_type": "stream",
     "text": [
      "C:\\Users\\Manan\\AppData\\Local\\Temp\\ipykernel_3928\\4003750256.py:20: SettingWithCopyWarning: \n",
      "A value is trying to be set on a copy of a slice from a DataFrame.\n",
      "Try using .loc[row_indexer,col_indexer] = value instead\n",
      "\n",
      "See the caveats in the documentation: https://pandas.pydata.org/pandas-docs/stable/user_guide/indexing.html#returning-a-view-versus-a-copy\n",
      "  dataset[\"subscribers\"] = subscribers\n"
     ]
    }
   ],
   "source": [
    "import pickle\n",
    "\n",
    "with open(\"channel_subscribers.pkl\", \"rb\") as f:\n",
    "    channel_subscribers = pickle.load(f)\n",
    "\n",
    "empty_channels = set()\n",
    "\n",
    "for channel in channel_subscribers:\n",
    "    if not channel_subscribers[channel]:\n",
    "        empty_channels.add(channel)\n",
    "\n",
    "# remove all videos from these channels from the dataset\n",
    "dataset = dataset[~dataset[\"channelId\"].isin(empty_channels)]\n",
    "\n",
    "# add the subscribers for all the channels currently in the dataset for all the videos by adding a new column called subscribers\n",
    "subscribers = []\n",
    "for row in dataset.itertuples():\n",
    "    subscribers.append(channel_subscribers[row.channelId])\n",
    "\n",
    "dataset[\"subscribers\"] = subscribers"
   ]
  },
  {
   "cell_type": "code",
   "execution_count": null,
   "metadata": {},
   "outputs": [],
   "source": [
    "dataset.to_csv(\"updated_dataset_tags_subscribers.csv\", index=False)"
   ]
  },
  {
   "cell_type": "code",
   "execution_count": 2,
   "metadata": {},
   "outputs": [],
   "source": [
    "import pandas as pd"
   ]
  },
  {
   "cell_type": "code",
   "execution_count": 3,
   "metadata": {},
   "outputs": [],
   "source": [
    "dataset = pd.read_csv(\"complete_dataset_final_maybe.csv\")"
   ]
  },
  {
   "cell_type": "code",
   "execution_count": 7,
   "metadata": {},
   "outputs": [],
   "source": [
    "tag_counts = {tag: 0 for tag in all_tags}\n",
    "tag_counts_subscribers = {tag: 0 for tag in all_tags}\n",
    "tag_counts_views = {tag: 0 for tag in all_tags}\n",
    "\n",
    "for row in dataset.itertuples():\n",
    "    if type(row.tags) is not str:\n",
    "        continue\n",
    "    for tag in row.tags.split(\"|\"):\n",
    "        tag_counts[tag] += 1\n",
    "        # tag_counts_subscribers[tag] += row.subscribers\n",
    "        tag_counts_views[tag] += row.view_count"
   ]
  },
  {
   "cell_type": "code",
   "execution_count": 8,
   "metadata": {},
   "outputs": [
    {
     "data": {
      "text/plain": [
       "43417"
      ]
     },
     "execution_count": 8,
     "metadata": {},
     "output_type": "execute_result"
    }
   ],
   "source": [
    "len(set(dataset[\"channelId\"]))"
   ]
  },
  {
   "cell_type": "code",
   "execution_count": 13,
   "metadata": {},
   "outputs": [
    {
     "name": "stdout",
     "output_type": "stream",
     "text": [
      "('instagram', 112282)\n",
      "('video', 74860)\n",
      "('twitter', 68864)\n",
      "('facebook', 67961)\n",
      "('with', 62701)\n",
      "('youtube', 62583)\n",
      "('subscribe', 52088)\n",
      "('this', 51302)\n",
      "('channel', 48608)\n",
      "('from', 44931)\n",
      "('music', 44771)\n",
      "('more', 42111)\n",
      "('канал', 37511)\n",
      "('like', 36447)\n",
      "('here', 36444)\n",
      "('your', 36029)\n",
      "('videos', 35077)\n",
      "('tiktok', 34444)\n",
      "('live', 31347)\n",
      "('follow', 31284)\n",
      "('official', 31259)\n",
      "('watch', 30903)\n",
      "('that', 30556)\n",
      "('видео', 25268)\n",
      "('will', 24625)\n",
      "('pour', 24436)\n",
      "('shorts', 23213)\n",
      "('para', 22707)\n",
      "('canal', 22671)\n",
      "('news', 21856)\n",
      "('about', 20937)\n",
      "('media', 20744)\n"
     ]
    }
   ],
   "source": [
    "d = sorted(tag_counts.items(), key=lambda x: x[1], reverse=True)[:100]\n",
    "for i in d:\n",
    "    if len(i[0]) > 3:\n",
    "        print(i)"
   ]
  },
  {
   "cell_type": "code",
   "execution_count": 15,
   "metadata": {},
   "outputs": [
    {
     "name": "stdout",
     "output_type": "stream",
     "text": [
      "('video', 789543623528)\n",
      "('instagram', 610364541820)\n",
      "('music', 602467547270)\n",
      "('with', 482995843415)\n",
      "('official', 429778162756)\n",
      "('subscribe', 406346305121)\n",
      "('youtube', 398823999892)\n",
      "('facebook', 395948595040)\n",
      "('this', 390732439813)\n",
      "('shorts', 375494566665)\n",
      "('twitter', 358126210480)\n",
      "('your', 331031434490)\n",
      "('from', 293365126990)\n",
      "('channel', 286831851100)\n",
      "('like', 283279770012)\n",
      "('follow', 278531843377)\n",
      "('more', 245766249471)\n",
      "('here', 239135603059)\n",
      "('tiktok', 232006644871)\n",
      "('videos', 228701927356)\n",
      "('that', 220924868998)\n",
      "('song', 206495103570)\n",
      "('entertainment', 203449023576)\n",
      "('director', 188853985012)\n",
      "('will', 181756182185)\n",
      "('producer', 179586037963)\n",
      "('love', 178390268852)\n",
      "('production', 167315436153)\n",
      "('watch', 161202437792)\n",
      "('2021', 155299553966)\n",
      "('make', 149851827758)\n",
      "('oficial', 143628823474)\n",
      "('lyrics', 139035643236)\n",
      "('spotify', 135037292261)\n",
      "('full', 133431830144)\n",
      "('canal', 132567340585)\n",
      "('funny', 131164333896)\n",
      "('about', 125630458562)\n",
      "('team', 125298025653)\n",
      "('please', 124277780904)\n",
      "('2022', 122516330101)\n",
      "('media', 120865568882)\n",
      "('have', 118810664368)\n",
      "('comedy', 118249956947)\n",
      "('latest', 116392047389)\n",
      "('para', 115589211879)\n",
      "('thanks', 114891466704)\n",
      "('what', 113298631608)\n",
      "('listen', 109700868344)\n",
      "('album', 108203393529)\n",
      "('directed', 107897256371)\n",
      "('stay', 107827931549)\n",
      "('live', 107645618496)\n",
      "('records', 107318508448)\n",
      "('life', 106828143205)\n",
      "('como', 106604494968)\n",
      "('2023', 106316932129)\n",
      "('sound', 104025121626)\n",
      "('time', 103275449188)\n",
      "('only', 102987014987)\n",
      "('best', 101297911462)\n",
      "('world', 101264812478)\n",
      "('produced', 100641759973)\n",
      "('designer', 99978554568)\n",
      "('when', 99803032409)\n",
      "('singh', 98310447371)\n",
      "('download', 98218021658)\n",
      "('merch', 96952107766)\n",
      "('design', 95955288353)\n",
      "('performing', 95350733331)\n",
      "('manager', 95263633941)\n",
      "('family', 94432291669)\n",
      "('assistant', 94164582841)\n",
      "('redes', 92918466261)\n",
      "('know', 92113531827)\n",
      "('take', 91838247659)\n",
      "('studio', 91790571327)\n",
      "('2020', 91099945394)\n",
      "('digital', 90710539014)\n",
      "('credits', 90627078549)\n",
      "('just', 90020991960)\n",
      "('challenge', 89676029275)\n",
      "('india', 89649034817)\n",
      "('story', 88595290995)\n",
      "('content', 88235730206)\n",
      "('share', 87597896072)\n",
      "('available', 87567038971)\n",
      "('their', 87061846808)\n",
      "('artist', 85772259235)\n",
      "('these', 85216289852)\n",
      "('first', 84597198291)\n",
      "('they', 84557805914)\n",
      "('other', 84454551911)\n",
      "('songs', 84089217889)\n",
      "('free', 82390147952)\n",
      "('master', 82366265613)\n",
      "('kumar', 79464138501)\n",
      "('film', 78481340569)\n",
      "('stream', 78435571729)\n",
      "('editor', 77921844091)\n",
      "('baby', 77819454068)\n",
      "('musical', 77064209107)\n",
      "('social', 76590659897)\n",
      "('click', 76420266351)\n",
      "('connected', 75939465254)\n",
      "('enjoy', 75866734033)\n",
      "('show', 75391175243)\n",
      "('link', 73941265285)\n",
      "('sony', 73232483843)\n",
      "('movie', 72838314737)\n",
      "('label', 72723578634)\n",
      "('apple', 72671955662)\n",
      "('made', 72141442800)\n",
      "('every', 71819110813)\n",
      "('game', 71583912431)\n",
      "('original', 71576461477)\n",
      "('most', 71141606722)\n",
      "('watching', 71006192487)\n",
      "('some', 70136693660)\n",
      "('house', 69846124684)\n",
      "('company', 69534155618)\n",
      "('exclusive', 69406728354)\n",
      "('under', 69373358379)\n",
      "('mastered', 68360767816)\n",
      "('pero', 68068259971)\n",
      "('photography', 67800233091)\n",
      "('never', 67777656173)\n",
      "('prime', 67050249980)\n",
      "('audio', 67019558165)\n",
      "('back', 66879614145)\n",
      "('música', 66247953817)\n",
      "('presents', 66046997905)\n",
      "('website', 65760251385)\n",
      "('dance', 65653988909)\n",
      "('видео', 65410860191)\n",
      "('special', 64803783757)\n",
      "('канал', 63540166665)\n",
      "('creative', 63390331673)\n",
      "('find', 63178105328)\n",
      "('want', 62876476420)\n",
      "('amazon', 62781034555)\n",
      "('episode', 62688499162)\n",
      "('feat', 62350004567)\n",
      "('into', 62009097127)\n",
      "('todo', 61972330440)\n",
      "('written', 61820651529)\n",
      "('studios', 61554454428)\n",
      "('them', 61495168805)\n",
      "('starring', 61476255066)\n",
      "('play', 60468659886)\n",
      "('hair', 60301574722)\n",
      "('viral', 60174230182)\n",
      "('amor', 59884456797)\n",
      "('vídeo', 59829339997)\n",
      "('minecraft', 59596289421)\n",
      "('where', 59396707295)\n",
      "('real', 59313402438)\n",
      "('name', 59202855230)\n",
      "('favorite', 59166214207)\n",
      "('part', 57748095166)\n",
      "('over', 57134462514)\n",
      "('rights', 56714569068)\n",
      "('been', 56665333320)\n",
      "('plataformas', 56104983987)\n",
      "('which', 55695826386)\n",
      "('sharma', 55180045422)\n",
      "('streaming', 55137006516)\n",
      "('aquí', 54746006019)\n",
      "('through', 54676329957)\n",
      "('todas', 54424288173)\n",
      "('singer', 54362152849)\n",
      "('business', 54336530489)\n",
      "('head', 54023258388)\n",
      "('check', 53980155480)\n",
      "('people', 53925056893)\n",
      "('news', 53665278795)\n",
      "('friends', 53540048904)\n",
      "('much', 53349883381)\n",
      "('você', 53193377496)\n",
      "('cuando', 52940064888)\n",
      "('quiero', 52750071824)\n",
      "('cast', 52666927313)\n",
      "('este', 52499285571)\n",
      "('mais', 52474762830)\n",
      "('universal', 52422662224)\n",
      "('trending', 52289439464)\n",
      "('vida', 52136041195)\n",
      "('khan', 52097752514)\n",
      "('hope', 51936633618)\n",
      "('bell', 51926846741)\n",
      "('comment', 51794992420)\n",
      "('stylist', 51779110440)\n",
      "('sung', 51632614777)\n",
      "('after', 51614941660)\n",
      "('solo', 51398887265)\n",
      "('there', 51365629200)\n",
      "('latin', 51337533757)\n",
      "('films', 51022388108)\n",
      "('good', 51020048997)\n",
      "('discord', 50635345940)\n",
      "('short', 50628813176)\n",
      "('join', 50533648337)\n",
      "('visit', 49677452066)\n",
      "('está', 49615114547)\n",
      "('executive', 49528997352)\n",
      "('todos', 48719353631)\n",
      "('main', 48684903839)\n",
      "('right', 48479259569)\n",
      "('provided', 48167953367)\n",
      "('makeup', 47832090315)\n",
      "('forget', 47186504317)\n",
      "('support', 46668829680)\n",
      "('series', 46406789791)\n",
      "('engineer', 46399881872)\n",
      "('featuring', 46368296316)\n",
      "('still', 46114968619)\n",
      "('today', 45759597202)\n",
      "('contact', 45731980795)\n",
      "('around', 45731710676)\n",
      "('shows', 45336924928)\n",
      "('star', 44923215095)\n",
      "('come', 44799601438)\n",
      "('management', 44739832025)\n",
      "('mein', 44382488320)\n",
      "('future', 44307133174)\n",
      "('track', 44201630033)\n",
      "('estoy', 44138359425)\n",
      "('girl', 44107072339)\n",
      "('single', 43915309974)\n",
      "('updates', 43549947477)\n",
      "('making', 43278135981)\n",
      "('turn', 43233430220)\n",
      "('action', 42957281112)\n",
      "('miss', 42903345197)\n",
      "('than', 42660366053)\n",
      "('group', 42597378815)\n",
      "('crew', 42500151336)\n",
      "('guys', 42438225117)\n",
      "('tengo', 42292782681)\n",
      "('leave', 42060199208)\n",
      "('reserved', 42035371019)\n",
      "('camera', 42009347256)\n",
      "('trailer', 41986159774)\n",
      "('porque', 41963472883)\n",
      "('keep', 41711683556)\n",
      "('mundo', 41490743976)\n",
      "('online', 41385679534)\n",
      "('mixed', 41272182332)\n",
      "('rahul', 41242475210)\n",
      "('produção', 41165165205)\n",
      "('itunes', 41130127586)\n",
      "('vlog', 40993327138)\n",
      "('thank', 40747155453)\n",
      "('home', 40727765829)\n",
      "('then', 40686769232)\n",
      "('ever', 40672807516)\n",
      "('would', 40541907911)\n",
      "('always', 40490907931)\n",
      "('last', 40407277943)\n",
      "('super', 40375199801)\n",
      "('operator', 40371008831)\n",
      "('platform', 40361905623)\n",
      "('post', 40187520448)\n",
      "('composer', 40146132918)\n",
      "('food', 40047737820)\n",
      "('need', 40030897248)\n",
      "('look', 39698297047)\n",
      "('down', 39374504857)\n",
      "('bien', 39285796064)\n",
      "('nunca', 39239762147)\n",
      "('чтобы', 39204368258)\n",
      "('email', 39073171781)\n",
      "('esta', 39029987108)\n",
      "('epidemic', 38976878381)\n",
      "('hindi', 38863814583)\n",
      "('tour', 38583299584)\n",
      "('punjabi', 38479116060)\n",
      "('telegram', 38375167258)\n",
      "('trap', 38279613354)\n",
      "('reggaeton', 38264517596)\n",
      "('nada', 38258005083)\n",
      "('animation', 38114069824)\n",
      "('siempre', 38042494329)\n",
      "('copyright', 37984121772)\n",
      "('questions', 37981264926)\n",
      "('playlist', 37828118813)\n",
      "('daniel', 37770939922)\n",
      "('kick', 37732305185)\n",
      "('minha', 37727268962)\n",
      "('direção', 37490559075)\n",
      "('vocals', 37376534715)\n",
      "('tere', 37213657446)\n",
      "('vivo', 37185360010)\n",
      "('prod', 37149947741)\n",
      "('reach', 37091339911)\n",
      "('license', 36886971529)\n",
      "('arranged', 36743693372)\n",
      "('costume', 36511398300)\n",
      "('heart', 36487897192)\n",
      "('remix', 36400199406)\n",
      "('even', 36360834575)\n",
      "('michael', 36137552417)\n"
     ]
    }
   ],
   "source": [
    "d = sorted(tag_counts_views.items(), key=lambda x: x[1], reverse=True)[:500]\n",
    "for i in d:\n",
    "    if len(i[0]) > 3:\n",
    "        print(i)"
   ]
  },
  {
   "cell_type": "code",
   "execution_count": 3,
   "metadata": {},
   "outputs": [
    {
     "name": "stdout",
     "output_type": "stream",
     "text": [
      "   categoryId                                               tags  view_count  \\\n",
      "0          22  my|girlfriend|vlogs|...|prank|skits|to|brawadi...     4495886   \n",
      "1          20  free|aka|good|new apex legend|but|stories|and|...     5764921   \n",
      "2          24  spicy memes|meme|community subreddit|reaction|...     4163436   \n",
      "3          10  1st|2020 xxl freshman|wave|xxl|fivio|website|x...     1748453   \n",
      "4          26  video|jam|custom|follow|lux|dramatic|empty|tab...     2873202   \n",
      "\n",
      "    likes  dislikes  comment_count  comments_disabled region  duration  \\\n",
      "0  212931      5855          40187              False     US      1118   \n",
      "1  200844      2794          16500              False     US       138   \n",
      "2  478551      2628          42857              False     US      1330   \n",
      "3   42464      1856           9512              False     US        61   \n",
      "4   73118       964           2744              False     US      2240   \n",
      "\n",
      "  definition  caption  comment_sentiment  subscribers  \n",
      "0         hd    False            0.02021      6540000  \n",
      "1         hd     True            0.16579      2820000  \n",
      "2         hd    False            0.15123     30800000  \n",
      "3         hd    False            0.22751      4320000  \n",
      "4         hd    False            0.41685      3840000  \n"
     ]
    }
   ],
   "source": [
    "# Select the specified columns to create the complete_dataset\n",
    "complete_dataset = dataset[['categoryId', 'tags', 'view_count', 'likes', 'dislikes', 'comment_count', 'comments_disabled', 'region', 'duration', 'definition', 'caption', 'comment_sentiment', 'subscribers']]\n",
    "\n",
    "# Display the first few rows of the new DataFrame\n",
    "print(complete_dataset.head())"
   ]
  },
  {
   "cell_type": "code",
   "execution_count": 4,
   "metadata": {},
   "outputs": [
    {
     "name": "stderr",
     "output_type": "stream",
     "text": [
      "C:\\Users\\Devansh\\AppData\\Local\\Temp\\ipykernel_1388\\1585907410.py:11: SettingWithCopyWarning: \n",
      "A value is trying to be set on a copy of a slice from a DataFrame.\n",
      "Try using .loc[row_indexer,col_indexer] = value instead\n",
      "\n",
      "See the caveats in the documentation: https://pandas.pydata.org/pandas-docs/stable/user_guide/indexing.html#returning-a-view-versus-a-copy\n",
      "  complete_dataset.loc[:, f\"tag_{tag}\"] = complete_dataset['tags'].apply(lambda x: 1 if type(x) == str and tag in x.split('|') else 0)\n",
      "C:\\Users\\Devansh\\AppData\\Local\\Temp\\ipykernel_1388\\1585907410.py:11: SettingWithCopyWarning: \n",
      "A value is trying to be set on a copy of a slice from a DataFrame.\n",
      "Try using .loc[row_indexer,col_indexer] = value instead\n",
      "\n",
      "See the caveats in the documentation: https://pandas.pydata.org/pandas-docs/stable/user_guide/indexing.html#returning-a-view-versus-a-copy\n",
      "  complete_dataset.loc[:, f\"tag_{tag}\"] = complete_dataset['tags'].apply(lambda x: 1 if type(x) == str and tag in x.split('|') else 0)\n",
      "C:\\Users\\Devansh\\AppData\\Local\\Temp\\ipykernel_1388\\1585907410.py:11: SettingWithCopyWarning: \n",
      "A value is trying to be set on a copy of a slice from a DataFrame.\n",
      "Try using .loc[row_indexer,col_indexer] = value instead\n",
      "\n",
      "See the caveats in the documentation: https://pandas.pydata.org/pandas-docs/stable/user_guide/indexing.html#returning-a-view-versus-a-copy\n",
      "  complete_dataset.loc[:, f\"tag_{tag}\"] = complete_dataset['tags'].apply(lambda x: 1 if type(x) == str and tag in x.split('|') else 0)\n",
      "C:\\Users\\Devansh\\AppData\\Local\\Temp\\ipykernel_1388\\1585907410.py:11: SettingWithCopyWarning: \n",
      "A value is trying to be set on a copy of a slice from a DataFrame.\n",
      "Try using .loc[row_indexer,col_indexer] = value instead\n",
      "\n",
      "See the caveats in the documentation: https://pandas.pydata.org/pandas-docs/stable/user_guide/indexing.html#returning-a-view-versus-a-copy\n",
      "  complete_dataset.loc[:, f\"tag_{tag}\"] = complete_dataset['tags'].apply(lambda x: 1 if type(x) == str and tag in x.split('|') else 0)\n",
      "C:\\Users\\Devansh\\AppData\\Local\\Temp\\ipykernel_1388\\1585907410.py:11: SettingWithCopyWarning: \n",
      "A value is trying to be set on a copy of a slice from a DataFrame.\n",
      "Try using .loc[row_indexer,col_indexer] = value instead\n",
      "\n",
      "See the caveats in the documentation: https://pandas.pydata.org/pandas-docs/stable/user_guide/indexing.html#returning-a-view-versus-a-copy\n",
      "  complete_dataset.loc[:, f\"tag_{tag}\"] = complete_dataset['tags'].apply(lambda x: 1 if type(x) == str and tag in x.split('|') else 0)\n",
      "C:\\Users\\Devansh\\AppData\\Local\\Temp\\ipykernel_1388\\1585907410.py:11: SettingWithCopyWarning: \n",
      "A value is trying to be set on a copy of a slice from a DataFrame.\n",
      "Try using .loc[row_indexer,col_indexer] = value instead\n",
      "\n",
      "See the caveats in the documentation: https://pandas.pydata.org/pandas-docs/stable/user_guide/indexing.html#returning-a-view-versus-a-copy\n",
      "  complete_dataset.loc[:, f\"tag_{tag}\"] = complete_dataset['tags'].apply(lambda x: 1 if type(x) == str and tag in x.split('|') else 0)\n",
      "C:\\Users\\Devansh\\AppData\\Local\\Temp\\ipykernel_1388\\1585907410.py:11: SettingWithCopyWarning: \n",
      "A value is trying to be set on a copy of a slice from a DataFrame.\n",
      "Try using .loc[row_indexer,col_indexer] = value instead\n",
      "\n",
      "See the caveats in the documentation: https://pandas.pydata.org/pandas-docs/stable/user_guide/indexing.html#returning-a-view-versus-a-copy\n",
      "  complete_dataset.loc[:, f\"tag_{tag}\"] = complete_dataset['tags'].apply(lambda x: 1 if type(x) == str and tag in x.split('|') else 0)\n",
      "C:\\Users\\Devansh\\AppData\\Local\\Temp\\ipykernel_1388\\1585907410.py:11: SettingWithCopyWarning: \n",
      "A value is trying to be set on a copy of a slice from a DataFrame.\n",
      "Try using .loc[row_indexer,col_indexer] = value instead\n",
      "\n",
      "See the caveats in the documentation: https://pandas.pydata.org/pandas-docs/stable/user_guide/indexing.html#returning-a-view-versus-a-copy\n",
      "  complete_dataset.loc[:, f\"tag_{tag}\"] = complete_dataset['tags'].apply(lambda x: 1 if type(x) == str and tag in x.split('|') else 0)\n",
      "C:\\Users\\Devansh\\AppData\\Local\\Temp\\ipykernel_1388\\1585907410.py:11: SettingWithCopyWarning: \n",
      "A value is trying to be set on a copy of a slice from a DataFrame.\n",
      "Try using .loc[row_indexer,col_indexer] = value instead\n",
      "\n",
      "See the caveats in the documentation: https://pandas.pydata.org/pandas-docs/stable/user_guide/indexing.html#returning-a-view-versus-a-copy\n",
      "  complete_dataset.loc[:, f\"tag_{tag}\"] = complete_dataset['tags'].apply(lambda x: 1 if type(x) == str and tag in x.split('|') else 0)\n"
     ]
    },
    {
     "name": "stdout",
     "output_type": "stream",
     "text": [
      "   categoryId  view_count   likes  dislikes  comment_count  comments_disabled  \\\n",
      "0          22     4495886  212931      5855          40187              False   \n",
      "1          20     5764921  200844      2794          16500              False   \n",
      "2          24     4163436  478551      2628          42857              False   \n",
      "3          10     1748453   42464      1856           9512              False   \n",
      "4          26     2873202   73118       964           2744              False   \n",
      "\n",
      "  region  duration definition  caption  ...  tag_production  tag_spotify  \\\n",
      "0     US      1118         hd    False  ...               0            0   \n",
      "1     US       138         hd     True  ...               0            0   \n",
      "2     US      1330         hd    False  ...               0            0   \n",
      "3     US        61         hd    False  ...               0            0   \n",
      "4     US      2240         hd    False  ...               0            0   \n",
      "\n",
      "   tag_funny  tag_design  tag_download  tag_merch  tag_family  tag_challenge  \\\n",
      "0          0           0             0          0           0              0   \n",
      "1          0           0             0          0           0              0   \n",
      "2          1           0             0          0           0              0   \n",
      "3          0           0             0          0           0              0   \n",
      "4          0           0             0          0           1              0   \n",
      "\n",
      "   tag_comedy  tag_digital  \n",
      "0           0            0  \n",
      "1           0            0  \n",
      "2           0            0  \n",
      "3           0            0  \n",
      "4           0            0  \n",
      "\n",
      "[5 rows x 42 columns]\n"
     ]
    }
   ],
   "source": [
    "# List of tags to apply one-hot encoding\n",
    "tags_to_encode = [\n",
    "    'instagram', 'video', 'twitter', 'facebook', 'youtube', 'subscribe', 'channel', \n",
    "    'music', 'tiktok', 'live', 'official', 'shorts', 'news', 'media', 'about', \n",
    "    'song', 'entertainment', 'director', 'producer', 'love', 'production', \n",
    "    'spotify', 'funny', 'design', 'download', 'merch', 'family', 'challenge', 'comedy', 'digital'\n",
    "]\n",
    "\n",
    "# Initialize columns for one-hot encoding\n",
    "for tag in tags_to_encode:\n",
    "    complete_dataset.loc[:, f\"tag_{tag}\"] = complete_dataset['tags'].apply(lambda x: 1 if type(x) == str and tag in x.split('|') else 0)\n",
    "\n",
    "# Remove the original 'tags' column\n",
    "complete_dataset.drop(columns=['tags'], inplace=True)\n",
    "\n",
    "# Display the first few rows of the updated DataFrame\n",
    "print(complete_dataset.head())"
   ]
  },
  {
   "cell_type": "code",
   "execution_count": 5,
   "metadata": {},
   "outputs": [],
   "source": [
    "complete_dataset.to_csv(\"complete_dataset.csv\", index=False)"
   ]
  },
  {
   "cell_type": "code",
   "execution_count": 1,
   "metadata": {},
   "outputs": [],
   "source": [
    "import pandas as pd\n",
    "\n",
    "complete_dataset = pd.read_csv(\"complete_dataset_final_maybe.csv\")"
   ]
  },
  {
   "cell_type": "code",
   "execution_count": 2,
   "metadata": {},
   "outputs": [
    {
     "name": "stdout",
     "output_type": "stream",
     "text": [
      "[('AdaBoostRegressor', <class 'sklearn.ensemble._weight_boosting.AdaBoostRegressor'>), ('BaggingRegressor', <class 'sklearn.ensemble._bagging.BaggingRegressor'>), ('BayesianRidge', <class 'sklearn.linear_model._bayes.BayesianRidge'>), ('DecisionTreeRegressor', <class 'sklearn.tree._classes.DecisionTreeRegressor'>), ('DummyRegressor', <class 'sklearn.dummy.DummyRegressor'>), ('ElasticNet', <class 'sklearn.linear_model._coordinate_descent.ElasticNet'>), ('ElasticNetCV', <class 'sklearn.linear_model._coordinate_descent.ElasticNetCV'>), ('ExtraTreeRegressor', <class 'sklearn.tree._classes.ExtraTreeRegressor'>), ('ExtraTreesRegressor', <class 'sklearn.ensemble._forest.ExtraTreesRegressor'>), ('GammaRegressor', <class 'sklearn.linear_model._glm.glm.GammaRegressor'>), ('GaussianProcessRegressor', <class 'sklearn.gaussian_process._gpr.GaussianProcessRegressor'>), ('GradientBoostingRegressor', <class 'sklearn.ensemble._gb.GradientBoostingRegressor'>), ('HistGradientBoostingRegressor', <class 'sklearn.ensemble._hist_gradient_boosting.gradient_boosting.HistGradientBoostingRegressor'>), ('HuberRegressor', <class 'sklearn.linear_model._huber.HuberRegressor'>), ('KNeighborsRegressor', <class 'sklearn.neighbors._regression.KNeighborsRegressor'>), ('KernelRidge', <class 'sklearn.kernel_ridge.KernelRidge'>), ('Lars', <class 'sklearn.linear_model._least_angle.Lars'>), ('LarsCV', <class 'sklearn.linear_model._least_angle.LarsCV'>), ('Lasso', <class 'sklearn.linear_model._coordinate_descent.Lasso'>), ('LassoCV', <class 'sklearn.linear_model._coordinate_descent.LassoCV'>), ('LassoLars', <class 'sklearn.linear_model._least_angle.LassoLars'>), ('LassoLarsCV', <class 'sklearn.linear_model._least_angle.LassoLarsCV'>), ('LassoLarsIC', <class 'sklearn.linear_model._least_angle.LassoLarsIC'>), ('LinearRegression', <class 'sklearn.linear_model._base.LinearRegression'>), ('LinearSVR', <class 'sklearn.svm._classes.LinearSVR'>), ('MLPRegressor', <class 'sklearn.neural_network._multilayer_perceptron.MLPRegressor'>), ('NuSVR', <class 'sklearn.svm._classes.NuSVR'>), ('OrthogonalMatchingPursuit', <class 'sklearn.linear_model._omp.OrthogonalMatchingPursuit'>), ('OrthogonalMatchingPursuitCV', <class 'sklearn.linear_model._omp.OrthogonalMatchingPursuitCV'>), ('PassiveAggressiveRegressor', <class 'sklearn.linear_model._passive_aggressive.PassiveAggressiveRegressor'>), ('PoissonRegressor', <class 'sklearn.linear_model._glm.glm.PoissonRegressor'>), ('QuantileRegressor', <class 'sklearn.linear_model._quantile.QuantileRegressor'>), ('RANSACRegressor', <class 'sklearn.linear_model._ransac.RANSACRegressor'>), ('RandomForestRegressor', <class 'sklearn.ensemble._forest.RandomForestRegressor'>), ('Ridge', <class 'sklearn.linear_model._ridge.Ridge'>), ('RidgeCV', <class 'sklearn.linear_model._ridge.RidgeCV'>), ('SGDRegressor', <class 'sklearn.linear_model._stochastic_gradient.SGDRegressor'>), ('SVR', <class 'sklearn.svm._classes.SVR'>), ('TransformedTargetRegressor', <class 'sklearn.compose._target.TransformedTargetRegressor'>), ('TweedieRegressor', <class 'sklearn.linear_model._glm.glm.TweedieRegressor'>), ('XGBRegressor', <class 'xgboost.sklearn.XGBRegressor'>), ('LGBMRegressor', <class 'lightgbm.sklearn.LGBMRegressor'>)]\n"
     ]
    }
   ],
   "source": [
    "import lazypredict.Supervised\n",
    "\n",
    "print(lazypredict.Supervised.REGRESSORS)"
   ]
  },
  {
   "cell_type": "code",
   "execution_count": 3,
   "metadata": {},
   "outputs": [],
   "source": [
    "from lazypredict.Supervised import LazyRegressor\n",
    "from sklearn.model_selection import train_test_split\n",
    "from sklearn.preprocessing import LabelEncoder\n",
    "import numpy as np"
   ]
  },
  {
   "cell_type": "code",
   "execution_count": 4,
   "metadata": {},
   "outputs": [],
   "source": [
    "complete_dataset[\"log_duration\"] = np.log(complete_dataset[\"duration\"])"
   ]
  },
  {
   "cell_type": "code",
   "execution_count": 5,
   "metadata": {},
   "outputs": [
    {
     "name": "stdout",
     "output_type": "stream",
     "text": [
      "Top tags contributing to video views: {2: ['tag_video', 'tag_music', 'tag_youtube', 'tag_official', 'tag_live', 'tag_subscribe', 'tag_highlights']}\n"
     ]
    }
   ],
   "source": [
    "from sklearn.decomposition import PCA\n",
    "\n",
    "tag_columns = [col for col in complete_dataset.columns if col.startswith('tag_')]\n",
    "tag_data = complete_dataset[tag_columns]\n",
    "\n",
    "pca = PCA()\n",
    "pca.fit(tag_data)\n",
    "\n",
    "loadings = pd.DataFrame(pca.components_, columns=tag_columns)\n",
    "\n",
    "tag_data_pca = pca.transform(tag_data)\n",
    "tag_data_pca = pd.DataFrame(tag_data_pca)\n",
    "\n",
    "# Add video_views column to the PCA-transformed data for correlation analysis\n",
    "tag_data_pca['video_views'] = complete_dataset['view_count']\n",
    "\n",
    "# Correlate components with video views\n",
    "correlations = tag_data_pca.corr()['video_views'][:-1]  # Ignore 'video_views' itself\n",
    "\n",
    "# Step 6: Identify top tags in the most correlated components\n",
    "top_components = correlations.abs().sort_values(ascending=False).head(1).index  # Most correlated component(s)\n",
    "top_tags = {}\n",
    "\n",
    "for component in top_components:\n",
    "    component_loadings = loadings.loc[int(component)]  # Get loadings for this component\n",
    "    top_tags[component] = component_loadings.abs().sort_values(ascending=False).head(7).index.tolist()\n",
    "\n",
    "print(\"Top tags contributing to video views:\", top_tags)"
   ]
  },
  {
   "cell_type": "code",
   "execution_count": 5,
   "metadata": {},
   "outputs": [],
   "source": [
    "complete_dataset[\"log_duration\"] = complete_dataset[\"log_duration\"].replace(-np.inf, 0)"
   ]
  },
  {
   "cell_type": "code",
   "execution_count": 6,
   "metadata": {},
   "outputs": [],
   "source": [
    "from sklearn.preprocessing import LabelEncoder"
   ]
  },
  {
   "cell_type": "code",
   "execution_count": 7,
   "metadata": {},
   "outputs": [
    {
     "data": {
      "text/plain": [
       "Index(['categoryId', 'view_count', 'likes', 'dislikes', 'comment_count',\n",
       "       'comments_disabled', 'region', 'duration', 'definition', 'caption',\n",
       "       ...\n",
       "       'tag_меня', 'tag_unboxing', 'tag_video', 'tag_soccer', 'tag_cars',\n",
       "       'tag_политика', 'tag_украина', 'tag_live', 'tag_click', 'log_duration'],\n",
       "      dtype='object', length=161)"
      ]
     },
     "execution_count": 7,
     "metadata": {},
     "output_type": "execute_result"
    }
   ],
   "source": [
    "complete_dataset.columns"
   ]
  },
  {
   "cell_type": "code",
   "execution_count": 8,
   "metadata": {},
   "outputs": [],
   "source": [
    "X = complete_dataset.drop(columns=['view_count'])\n",
    "y = pd.concat([complete_dataset['view_count']], axis=1)\n",
    "\n",
    "country_label_encoder = LabelEncoder()\n",
    "definition_label_encoder = LabelEncoder()\n",
    "\n",
    "X[\"region\"] = country_label_encoder.fit_transform(X[\"region\"])\n",
    "X[\"definition\"] = country_label_encoder.fit_transform(X[\"definition\"])\n",
    "\n",
    "X_train, X_test, y_train, y_test = train_test_split(X, y, test_size=0.2, random_state=42)\n"
   ]
  },
  {
   "cell_type": "code",
   "execution_count": 10,
   "metadata": {},
   "outputs": [
    {
     "name": "stderr",
     "output_type": "stream",
     "text": [
      "  3%|▎         | 1/38 [02:22<1:27:47, 142.36s/it]"
     ]
    },
    {
     "name": "stdout",
     "output_type": "stream",
     "text": [
      "{'Model': 'AdaBoostRegressor', 'R-Squared': -3.026108383302586, 'Adjusted R-Squared': -3.0332670228835035, 'RMSE': np.float64(50416988.54867021), 'Time taken': 142.36320114135742}\n"
     ]
    },
    {
     "name": "stderr",
     "output_type": "stream",
     "text": [
      "  5%|▌         | 2/38 [02:59<48:08, 80.23s/it]   "
     ]
    },
    {
     "name": "stdout",
     "output_type": "stream",
     "text": [
      "{'Model': 'BaggingRegressor', 'R-Squared': 0.6142928614260853, 'Adjusted R-Squared': 0.6136070531651132, 'RMSE': np.float64(15604972.537853517), 'Time taken': 36.73839092254639}\n"
     ]
    },
    {
     "name": "stderr",
     "output_type": "stream",
     "text": [
      "  8%|▊         | 3/38 [03:11<28:41, 49.17s/it]"
     ]
    },
    {
     "name": "stdout",
     "output_type": "stream",
     "text": [
      "{'Model': 'BayesianRidge', 'R-Squared': 0.4059106096198233, 'Adjusted R-Squared': 0.40485428638664445, 'RMSE': np.float64(19366898.14964947), 'Time taken': 12.214648723602295}\n"
     ]
    },
    {
     "name": "stderr",
     "output_type": "stream",
     "text": [
      " 11%|█         | 4/38 [03:31<21:18, 37.60s/it]"
     ]
    },
    {
     "name": "stdout",
     "output_type": "stream",
     "text": [
      "{'Model': 'DecisionTreeRegressor', 'R-Squared': 0.4762280870180222, 'Adjusted R-Squared': 0.4752967920823976, 'RMSE': np.float64(18184663.678377487), 'Time taken': 19.85188865661621}\n"
     ]
    },
    {
     "name": "stderr",
     "output_type": "stream",
     "text": [
      " 13%|█▎        | 5/38 [03:33<13:38, 24.80s/it]"
     ]
    },
    {
     "name": "stdout",
     "output_type": "stream",
     "text": [
      "{'Model': 'DummyRegressor', 'R-Squared': -1.5703487820761808e-05, 'Adjusted R-Squared': -0.001793785773487988, 'RMSE': np.float64(25126822.9882512), 'Time taken': 2.104119062423706}\n"
     ]
    },
    {
     "name": "stderr",
     "output_type": "stream",
     "text": [
      " 16%|█▌        | 6/38 [03:39<09:46, 18.34s/it]"
     ]
    },
    {
     "name": "stdout",
     "output_type": "stream",
     "text": [
      "{'Model': 'ElasticNet', 'R-Squared': 0.2796078606070238, 'Adjusted R-Squared': 0.278326964219776, 'RMSE': np.float64(21326454.133930005), 'Time taken': 5.798767805099487}\n"
     ]
    },
    {
     "name": "stderr",
     "output_type": "stream",
     "text": [
      " 18%|█▊        | 7/38 [03:46<07:35, 14.68s/it]"
     ]
    },
    {
     "name": "stdout",
     "output_type": "stream",
     "text": [
      "{'Model': 'ElasticNetCV', 'R-Squared': 6.54670737697538e-05, 'Adjusted R-Squared': -0.0017124708862261695, 'RMSE': np.float64(25125803.204404365), 'Time taken': 7.150674819946289}\n"
     ]
    },
    {
     "name": "stderr",
     "output_type": "stream",
     "text": [
      " 21%|██        | 8/38 [04:02<07:34, 15.16s/it]"
     ]
    },
    {
     "name": "stdout",
     "output_type": "stream",
     "text": [
      "{'Model': 'ExtraTreeRegressor', 'R-Squared': 0.427225388334722, 'Adjusted R-Squared': 0.4262069639368552, 'RMSE': np.float64(19016301.310702845), 'Time taken': 16.195637226104736}\n"
     ]
    },
    {
     "name": "stderr",
     "output_type": "stream",
     "text": [
      " 24%|██▎       | 9/38 [11:53<1:16:16, 157.80s/it]"
     ]
    },
    {
     "name": "stdout",
     "output_type": "stream",
     "text": [
      "{'Model': 'ExtraTreesRegressor', 'R-Squared': 0.6078095392053027, 'Adjusted R-Squared': 0.6071122032449627, 'RMSE': np.float64(15735577.396787714), 'Time taken': 471.4294068813324}\n"
     ]
    },
    {
     "name": "stderr",
     "output_type": "stream",
     "text": [
      " 26%|██▋       | 10/38 [11:56<51:14, 109.80s/it] "
     ]
    },
    {
     "name": "stdout",
     "output_type": "stream",
     "text": [
      "GammaRegressor model failed to execute\n",
      "Some value(s) of y are out of the valid range of the loss 'HalfGammaLoss'.\n"
     ]
    },
    {
     "name": "stderr",
     "output_type": "stream",
     "text": [
      " 29%|██▉       | 11/38 [11:58<34:35, 76.87s/it] "
     ]
    },
    {
     "name": "stdout",
     "output_type": "stream",
     "text": [
      "GaussianProcessRegressor model failed to execute\n",
      "Unable to allocate 969. GiB for an array with shape (360584, 360584) and data type float64\n"
     ]
    },
    {
     "name": "stderr",
     "output_type": "stream",
     "text": [
      " 32%|███▏      | 12/38 [14:39<44:27, 102.60s/it]"
     ]
    },
    {
     "name": "stdout",
     "output_type": "stream",
     "text": [
      "{'Model': 'GradientBoostingRegressor', 'R-Squared': 0.5711578139556621, 'Adjusted R-Squared': 0.5703953092352934, 'RMSE': np.float64(16454432.973763391), 'Time taken': 161.44257402420044}\n"
     ]
    },
    {
     "name": "stderr",
     "output_type": "stream",
     "text": [
      " 34%|███▍      | 13/38 [14:50<31:09, 74.78s/it] "
     ]
    },
    {
     "name": "stdout",
     "output_type": "stream",
     "text": [
      "{'Model': 'HistGradientBoostingRegressor', 'R-Squared': 0.5428732284270413, 'Adjusted R-Squared': 0.5420604321759392, 'RMSE': np.float64(16988400.799787264), 'Time taken': 10.765162944793701}\n"
     ]
    },
    {
     "name": "stderr",
     "output_type": "stream",
     "text": [
      " 37%|███▋      | 14/38 [15:27<25:22, 63.43s/it]"
     ]
    },
    {
     "name": "stdout",
     "output_type": "stream",
     "text": [
      "{'Model': 'HuberRegressor', 'R-Squared': 0.3834140388123902, 'Adjusted R-Squared': 0.38231771545331195, 'RMSE': np.float64(19730177.232040808), 'Time taken': 37.209794998168945}\n"
     ]
    },
    {
     "name": "stderr",
     "output_type": "stream",
     "text": [
      " 39%|███▉      | 15/38 [16:48<26:17, 68.59s/it]"
     ]
    },
    {
     "name": "stdout",
     "output_type": "stream",
     "text": [
      "{'Model': 'KNeighborsRegressor', 'R-Squared': 0.4272383716768525, 'Adjusted R-Squared': 0.4262199703640738, 'RMSE': np.float64(19016085.783914402), 'Time taken': 80.540274143219}\n"
     ]
    },
    {
     "name": "stderr",
     "output_type": "stream",
     "text": [
      " 42%|████▏     | 16/38 [16:50<17:49, 48.61s/it]"
     ]
    },
    {
     "name": "stdout",
     "output_type": "stream",
     "text": [
      "KernelRidge model failed to execute\n",
      "Unable to allocate 969. GiB for an array with shape (360584, 360584) and data type float64\n"
     ]
    },
    {
     "name": "stderr",
     "output_type": "stream",
     "text": [
      " 45%|████▍     | 17/38 [16:53<12:11, 34.81s/it]"
     ]
    },
    {
     "name": "stdout",
     "output_type": "stream",
     "text": [
      "{'Model': 'Lars', 'R-Squared': 0.40602376408972995, 'Adjusted R-Squared': 0.40496764205135016, 'RMSE': np.float64(19365053.68357323), 'Time taken': 2.704519748687744}\n"
     ]
    },
    {
     "name": "stderr",
     "output_type": "stream",
     "text": [
      " 47%|████▋     | 18/38 [17:17<10:32, 31.62s/it]"
     ]
    },
    {
     "name": "stdout",
     "output_type": "stream",
     "text": [
      "{'Model': 'LarsCV', 'R-Squared': 0.40630421507245484, 'Adjusted R-Squared': 0.4052485916911688, 'RMSE': np.float64(19360481.45557292), 'Time taken': 24.182051181793213}\n"
     ]
    },
    {
     "name": "stderr",
     "output_type": "stream",
     "text": [
      " 50%|█████     | 19/38 [17:35<08:43, 27.57s/it]"
     ]
    },
    {
     "name": "stdout",
     "output_type": "stream",
     "text": [
      "{'Model': 'Lasso', 'R-Squared': 0.40602383123590524, 'Adjusted R-Squared': 0.40496770931691495, 'RMSE': np.float64(19365052.589009807), 'Time taken': 18.132510900497437}\n"
     ]
    },
    {
     "name": "stderr",
     "output_type": "stream",
     "text": [
      " 53%|█████▎    | 20/38 [17:44<06:33, 21.87s/it]"
     ]
    },
    {
     "name": "stdout",
     "output_type": "stream",
     "text": [
      "{'Model': 'LassoCV', 'R-Squared': 0.40707168845909125, 'Adjusted R-Squared': 0.40601742968720955, 'RMSE': np.float64(19347963.715244766), 'Time taken': 8.562001943588257}\n"
     ]
    },
    {
     "name": "stderr",
     "output_type": "stream",
     "text": [
      " 55%|█████▌    | 21/38 [17:46<04:33, 16.11s/it]"
     ]
    },
    {
     "name": "stdout",
     "output_type": "stream",
     "text": [
      "{'Model': 'LassoLars', 'R-Squared': 0.406023831218032, 'Adjusted R-Squared': 0.40496770929900994, 'RMSE': np.float64(19365052.58930116), 'Time taken': 2.6885201930999756}\n"
     ]
    },
    {
     "name": "stderr",
     "output_type": "stream",
     "text": [
      " 58%|█████▊    | 22/38 [18:00<04:05, 15.33s/it]"
     ]
    },
    {
     "name": "stdout",
     "output_type": "stream",
     "text": [
      "{'Model': 'LassoLarsCV', 'R-Squared': 0.40630421507245484, 'Adjusted R-Squared': 0.4052485916911688, 'RMSE': np.float64(19360481.45557292), 'Time taken': 13.50336742401123}\n"
     ]
    },
    {
     "name": "stderr",
     "output_type": "stream",
     "text": [
      " 61%|██████    | 23/38 [18:09<03:21, 13.43s/it]"
     ]
    },
    {
     "name": "stdout",
     "output_type": "stream",
     "text": [
      "{'Model': 'LassoLarsIC', 'R-Squared': 0.4067392115574693, 'Adjusted R-Squared': 0.4056843616235817, 'RMSE': np.float64(19353387.515547223), 'Time taken': 8.99725341796875}\n"
     ]
    },
    {
     "name": "stderr",
     "output_type": "stream",
     "text": [
      " 63%|██████▎   | 24/38 [18:16<02:41, 11.56s/it]"
     ]
    },
    {
     "name": "stdout",
     "output_type": "stream",
     "text": [
      "{'Model': 'LinearRegression', 'R-Squared': 0.40602376408973073, 'Adjusted R-Squared': 0.40496764205135094, 'RMSE': np.float64(19365053.68357322), 'Time taken': 7.194409608840942}\n"
     ]
    },
    {
     "name": "stderr",
     "output_type": "stream",
     "text": [
      " 66%|██████▌   | 25/38 [18:20<02:01,  9.33s/it]"
     ]
    },
    {
     "name": "stdout",
     "output_type": "stream",
     "text": [
      "{'Model': 'LinearSVR', 'R-Squared': -0.03166803972682697, 'Adjusted R-Squared': -0.03350240158707529, 'RMSE': np.float64(25521380.274419773), 'Time taken': 4.144635915756226}\n"
     ]
    },
    {
     "name": "stderr",
     "output_type": "stream",
     "text": [
      " 68%|██████▊   | 26/38 [32:36<52:37, 263.16s/it]"
     ]
    },
    {
     "name": "stdout",
     "output_type": "stream",
     "text": [
      "{'Model': 'MLPRegressor', 'R-Squared': 0.1254769628362299, 'Adjusted R-Squared': 0.12392201333357156, 'RMSE': np.float64(23497399.324797597), 'Time taken': 855.3246598243713}\n"
     ]
    },
    {
     "name": "stderr",
     "output_type": "stream",
     "text": [
      " 71%|███████   | 27/38 [32:38<33:56, 185.09s/it]"
     ]
    },
    {
     "name": "stdout",
     "output_type": "stream",
     "text": [
      "{'Model': 'OrthogonalMatchingPursuit', 'R-Squared': 0.40293564997399545, 'Adjusted R-Squared': 0.4018740371008356, 'RMSE': np.float64(19415328.396290477), 'Time taken': 2.9196927547454834}\n"
     ]
    },
    {
     "name": "stderr",
     "output_type": "stream",
     "text": [
      " 74%|███████▎  | 28/38 [32:57<22:30, 135.01s/it]"
     ]
    },
    {
     "name": "stdout",
     "output_type": "stream",
     "text": [
      "{'Model': 'OrthogonalMatchingPursuitCV', 'R-Squared': 0.40293564997399545, 'Adjusted R-Squared': 0.4018740371008356, 'RMSE': np.float64(19415328.396290477), 'Time taken': 18.127958059310913}\n"
     ]
    },
    {
     "name": "stderr",
     "output_type": "stream",
     "text": [
      " 76%|███████▋  | 29/38 [33:05<14:33, 97.10s/it] "
     ]
    },
    {
     "name": "stdout",
     "output_type": "stream",
     "text": [
      "{'Model': 'PoissonRegressor', 'R-Squared': -4.453949286578324e+20, 'Adjusted R-Squared': -4.461868650544414e+20, 'RMSE': np.float64(5.3028190065409274e+17), 'Time taken': 8.63520336151123}\n"
     ]
    },
    {
     "name": "stderr",
     "output_type": "stream",
     "text": [
      " 79%|███████▉  | 30/38 [33:25<09:51, 73.99s/it]"
     ]
    },
    {
     "name": "stdout",
     "output_type": "stream",
     "text": [
      "{'Model': 'RANSACRegressor', 'R-Squared': -1.055381289078183e+19, 'Adjusted R-Squared': -1.0572578143849253e+19, 'RMSE': np.float64(8.162794543030803e+16), 'Time taken': 20.0736083984375}\n"
     ]
    },
    {
     "name": "stderr",
     "output_type": "stream",
     "text": [
      " 82%|████████▏ | 31/38 [37:52<15:22, 131.82s/it]"
     ]
    },
    {
     "name": "stdout",
     "output_type": "stream",
     "text": [
      "{'Model': 'RandomForestRegressor', 'R-Squared': 0.6202867225378661, 'Adjusted R-Squared': 0.6196115716878012, 'RMSE': np.float64(15483247.713674746), 'Time taken': 266.7618725299835}\n"
     ]
    },
    {
     "name": "stderr",
     "output_type": "stream",
     "text": [
      " 84%|████████▍ | 32/38 [37:55<09:18, 93.08s/it] "
     ]
    },
    {
     "name": "stdout",
     "output_type": "stream",
     "text": [
      "{'Model': 'Ridge', 'R-Squared': 0.40602289581787265, 'Adjusted R-Squared': 0.40496677223565825, 'RMSE': np.float64(19365067.83744334), 'Time taken': 2.68727970123291}\n"
     ]
    },
    {
     "name": "stderr",
     "output_type": "stream",
     "text": [
      " 87%|████████▋ | 33/38 [38:07<05:44, 68.88s/it]"
     ]
    },
    {
     "name": "stdout",
     "output_type": "stream",
     "text": [
      "{'Model': 'RidgeCV', 'R-Squared': 0.40601508122122965, 'Adjusted R-Squared': 0.4049589437442376, 'RMSE': np.float64(19365195.22425279), 'Time taken': 12.41968822479248}\n"
     ]
    },
    {
     "name": "stderr",
     "output_type": "stream",
     "text": [
      " 89%|████████▉ | 34/38 [38:12<03:19, 49.77s/it]"
     ]
    },
    {
     "name": "stdout",
     "output_type": "stream",
     "text": [
      "{'Model': 'SGDRegressor', 'R-Squared': 0.0006602448041646003, 'Adjusted R-Squared': -0.0011166356086922402, 'RMSE': np.float64(25118329.469550617), 'Time taken': 5.169358491897583}\n"
     ]
    },
    {
     "name": "stderr",
     "output_type": "stream",
     "text": [
      " 92%|█████████▏| 35/38 [38:20<01:50, 36.99s/it]"
     ]
    },
    {
     "name": "stdout",
     "output_type": "stream",
     "text": [
      "{'Model': 'TransformedTargetRegressor', 'R-Squared': 0.40602376408973073, 'Adjusted R-Squared': 0.40496764205135094, 'RMSE': np.float64(19365053.68357322), 'Time taken': 7.1600341796875}\n"
     ]
    },
    {
     "name": "stderr",
     "output_type": "stream",
     "text": [
      " 95%|█████████▍| 36/38 [38:23<00:54, 27.02s/it]"
     ]
    },
    {
     "name": "stdout",
     "output_type": "stream",
     "text": [
      "{'Model': 'TweedieRegressor', 'R-Squared': 0.2280746516605533, 'Adjusted R-Squared': 0.22670212642624665, 'RMSE': np.float64(22076073.003164217), 'Time taken': 3.7547481060028076}\n"
     ]
    },
    {
     "name": "stderr",
     "output_type": "stream",
     "text": [
      " 97%|█████████▋| 37/38 [38:29<00:20, 20.55s/it]"
     ]
    },
    {
     "name": "stdout",
     "output_type": "stream",
     "text": [
      "{'Model': 'XGBRegressor', 'R-Squared': 0.5367505550384521, 'Adjusted R-Squared': 0.5359268723412121, 'RMSE': np.float64(17101792.410129555), 'Time taken': 5.473779916763306}\n",
      "[LightGBM] [Info] Auto-choosing row-wise multi-threading, the overhead of testing was 0.047577 seconds.\n",
      "You can set `force_row_wise=true` to remove the overhead.\n",
      "And if memory is not enough, you can set `force_col_wise=true`.\n",
      "[LightGBM] [Info] Total Bins 2260\n",
      "[LightGBM] [Info] Number of data points in the train set: 360584, number of used features: 158\n",
      "[LightGBM] [Info] Start training from score 5036127.288829\n"
     ]
    },
    {
     "name": "stderr",
     "output_type": "stream",
     "text": [
      "100%|██████████| 38/38 [38:33<00:00, 60.89s/it]"
     ]
    },
    {
     "name": "stdout",
     "output_type": "stream",
     "text": [
      "{'Model': 'LGBMRegressor', 'R-Squared': 0.5544768054238556, 'Adjusted R-Squared': 0.5536846409634708, 'RMSE': np.float64(16771400.493249778), 'Time taken': 4.435702323913574}\n",
      "                                     Adjusted R-Squared  \\\n",
      "Model                                                     \n",
      "RandomForestRegressor                              0.62   \n",
      "BaggingRegressor                                   0.61   \n",
      "ExtraTreesRegressor                                0.61   \n",
      "GradientBoostingRegressor                          0.57   \n",
      "LGBMRegressor                                      0.55   \n",
      "HistGradientBoostingRegressor                      0.54   \n",
      "XGBRegressor                                       0.54   \n",
      "DecisionTreeRegressor                              0.48   \n",
      "KNeighborsRegressor                                0.43   \n",
      "ExtraTreeRegressor                                 0.43   \n",
      "LassoCV                                            0.41   \n",
      "LassoLarsIC                                        0.41   \n",
      "LassoLarsCV                                        0.41   \n",
      "LarsCV                                             0.41   \n",
      "Lasso                                              0.40   \n",
      "LassoLars                                          0.40   \n",
      "TransformedTargetRegressor                         0.40   \n",
      "LinearRegression                                   0.40   \n",
      "Lars                                               0.40   \n",
      "Ridge                                              0.40   \n",
      "RidgeCV                                            0.40   \n",
      "BayesianRidge                                      0.40   \n",
      "OrthogonalMatchingPursuit                          0.40   \n",
      "OrthogonalMatchingPursuitCV                        0.40   \n",
      "HuberRegressor                                     0.38   \n",
      "ElasticNet                                         0.28   \n",
      "TweedieRegressor                                   0.23   \n",
      "MLPRegressor                                       0.12   \n",
      "SGDRegressor                                      -0.00   \n",
      "ElasticNetCV                                      -0.00   \n",
      "DummyRegressor                                    -0.00   \n",
      "LinearSVR                                         -0.03   \n",
      "AdaBoostRegressor                                 -3.03   \n",
      "RANSACRegressor                -10572578143849252864.00   \n",
      "PoissonRegressor              -446186865054441406464.00   \n",
      "\n",
      "                                              R-Squared                  RMSE  \\\n",
      "Model                                                                           \n",
      "RandomForestRegressor                              0.62           15483247.71   \n",
      "BaggingRegressor                                   0.61           15604972.54   \n",
      "ExtraTreesRegressor                                0.61           15735577.40   \n",
      "GradientBoostingRegressor                          0.57           16454432.97   \n",
      "LGBMRegressor                                      0.55           16771400.49   \n",
      "HistGradientBoostingRegressor                      0.54           16988400.80   \n",
      "XGBRegressor                                       0.54           17101792.41   \n",
      "DecisionTreeRegressor                              0.48           18184663.68   \n",
      "KNeighborsRegressor                                0.43           19016085.78   \n",
      "ExtraTreeRegressor                                 0.43           19016301.31   \n",
      "LassoCV                                            0.41           19347963.72   \n",
      "LassoLarsIC                                        0.41           19353387.52   \n",
      "LassoLarsCV                                        0.41           19360481.46   \n",
      "LarsCV                                             0.41           19360481.46   \n",
      "Lasso                                              0.41           19365052.59   \n",
      "LassoLars                                          0.41           19365052.59   \n",
      "TransformedTargetRegressor                         0.41           19365053.68   \n",
      "LinearRegression                                   0.41           19365053.68   \n",
      "Lars                                               0.41           19365053.68   \n",
      "Ridge                                              0.41           19365067.84   \n",
      "RidgeCV                                            0.41           19365195.22   \n",
      "BayesianRidge                                      0.41           19366898.15   \n",
      "OrthogonalMatchingPursuit                          0.40           19415328.40   \n",
      "OrthogonalMatchingPursuitCV                        0.40           19415328.40   \n",
      "HuberRegressor                                     0.38           19730177.23   \n",
      "ElasticNet                                         0.28           21326454.13   \n",
      "TweedieRegressor                                   0.23           22076073.00   \n",
      "MLPRegressor                                       0.13           23497399.32   \n",
      "SGDRegressor                                       0.00           25118329.47   \n",
      "ElasticNetCV                                       0.00           25125803.20   \n",
      "DummyRegressor                                    -0.00           25126822.99   \n",
      "LinearSVR                                         -0.03           25521380.27   \n",
      "AdaBoostRegressor                                 -3.03           50416988.55   \n",
      "RANSACRegressor                -10553812890781829120.00  81627945430308032.00   \n",
      "PoissonRegressor              -445394928657832411136.00 530281900654092736.00   \n",
      "\n",
      "                               Time Taken  \n",
      "Model                                      \n",
      "RandomForestRegressor              266.76  \n",
      "BaggingRegressor                    36.74  \n",
      "ExtraTreesRegressor                471.43  \n",
      "GradientBoostingRegressor          161.44  \n",
      "LGBMRegressor                        4.44  \n",
      "HistGradientBoostingRegressor       10.77  \n",
      "XGBRegressor                         5.47  \n",
      "DecisionTreeRegressor               19.85  \n",
      "KNeighborsRegressor                 80.54  \n",
      "ExtraTreeRegressor                  16.20  \n",
      "LassoCV                              8.56  \n",
      "LassoLarsIC                          9.00  \n",
      "LassoLarsCV                         13.50  \n",
      "LarsCV                              24.18  \n",
      "Lasso                               18.13  \n",
      "LassoLars                            2.69  \n",
      "TransformedTargetRegressor           7.16  \n",
      "LinearRegression                     7.19  \n",
      "Lars                                 2.70  \n",
      "Ridge                                2.69  \n",
      "RidgeCV                             12.42  \n",
      "BayesianRidge                       12.21  \n",
      "OrthogonalMatchingPursuit            2.92  \n",
      "OrthogonalMatchingPursuitCV         18.13  \n",
      "HuberRegressor                      37.21  \n",
      "ElasticNet                           5.80  \n",
      "TweedieRegressor                     3.75  \n",
      "MLPRegressor                       855.32  \n",
      "SGDRegressor                         5.17  \n",
      "ElasticNetCV                         7.15  \n",
      "DummyRegressor                       2.10  \n",
      "LinearSVR                            4.14  \n",
      "AdaBoostRegressor                  142.36  \n",
      "RANSACRegressor                     20.07  \n",
      "PoissonRegressor                     8.64  \n"
     ]
    },
    {
     "name": "stderr",
     "output_type": "stream",
     "text": [
      "\n"
     ]
    }
   ],
   "source": [
    "\n",
    "reg = LazyRegressor(verbose=1, ignore_warnings=False, custom_metric=None)\n",
    "models, predictions = reg.fit(X_train, X_test, y_train, y_test)\n",
    "\n",
    "print(models)"
   ]
  },
  {
   "cell_type": "code",
   "execution_count": 9,
   "metadata": {},
   "outputs": [
    {
     "name": "stderr",
     "output_type": "stream",
     "text": [
      "[Parallel(n_jobs=-1)]: Using backend ThreadingBackend with 16 concurrent workers.\n"
     ]
    },
    {
     "name": "stdout",
     "output_type": "stream",
     "text": [
      "building tree 1 of 100\n",
      "building tree 2 of 100\n",
      "building tree 3 of 100\n",
      "building tree 4 of 100\n",
      "building tree 5 of 100\n",
      "building tree 6 of 100\n",
      "building tree 7 of 100\n",
      "building tree 8 of 100\n",
      "building tree 9 of 100\n",
      "building tree 10 of 100\n",
      "building tree 11 of 100\n",
      "building tree 12 of 100\n",
      "building tree 13 of 100\n",
      "building tree 14 of 100\n",
      "building tree 15 of 100\n",
      "building tree 16 of 100\n",
      "building tree 17 of 100\n",
      "building tree 18 of 100\n",
      "building tree 19 of 100\n",
      "building tree 20 of 100\n",
      "building tree 21 of 100\n",
      "building tree 22 of 100\n",
      "building tree 23 of 100\n",
      "building tree 24 of 100\n",
      "building tree 25 of 100\n"
     ]
    },
    {
     "name": "stderr",
     "output_type": "stream",
     "text": [
      "[Parallel(n_jobs=-1)]: Done   9 tasks      | elapsed:   49.6s\n"
     ]
    },
    {
     "name": "stdout",
     "output_type": "stream",
     "text": [
      "building tree 26 of 100\n",
      "building tree 27 of 100\n",
      "building tree 28 of 100\n",
      "building tree 29 of 100\n",
      "building tree 30 of 100\n",
      "building tree 31 of 100\n",
      "building tree 32 of 100\n",
      "building tree 33 of 100\n",
      "building tree 34 of 100\n",
      "building tree 35 of 100\n",
      "building tree 36 of 100\n",
      "building tree 37 of 100\n",
      "building tree 38 of 100\n",
      "building tree 39 of 100\n",
      "building tree 40 of 100\n",
      "building tree 41 of 100\n",
      "building tree 42 of 100\n",
      "building tree 43 of 100\n",
      "building tree 44 of 100\n",
      "building tree 45 of 100\n",
      "building tree 46 of 100\n",
      "building tree 47 of 100\n",
      "building tree 48 of 100\n",
      "building tree 49 of 100\n",
      "building tree 50 of 100\n",
      "building tree 51 of 100\n",
      "building tree 52 of 100\n",
      "building tree 53 of 100\n",
      "building tree 54 of 100\n",
      "building tree 55 of 100\n",
      "building tree 56 of 100\n",
      "building tree 57 of 100\n",
      "building tree 58 of 100\n",
      "building tree 59 of 100\n",
      "building tree 60 of 100\n",
      "building tree 61 of 100\n",
      "building tree 62 of 100\n",
      "building tree 63 of 100\n",
      "building tree 64 of 100\n",
      "building tree 65 of 100\n",
      "building tree 66 of 100\n",
      "building tree 67 of 100\n",
      "building tree 68 of 100\n",
      "building tree 69 of 100\n",
      "building tree 70 of 100\n",
      "building tree 71 of 100\n",
      "building tree 72 of 100\n",
      "building tree 73 of 100\n",
      "building tree 74 of 100\n",
      "building tree 75 of 100\n",
      "building tree 76 of 100\n",
      "building tree 77 of 100\n",
      "building tree 78 of 100\n",
      "building tree 79 of 100\n",
      "building tree 80 of 100\n",
      "building tree 81 of 100\n",
      "building tree 82 of 100\n",
      "building tree 83 of 100\n",
      "building tree 84 of 100\n",
      "building tree 85 of 100\n",
      "building tree 86 of 100\n",
      "building tree 87 of 100\n",
      "building tree 88 of 100\n",
      "building tree 89 of 100\n",
      "building tree 90 of 100\n",
      "building tree 91 of 100\n",
      "building tree 92 of 100\n",
      "building tree 93 of 100\n",
      "building tree 94 of 100\n",
      "building tree 95 of 100\n",
      "building tree 96 of 100\n",
      "building tree 97 of 100\n",
      "building tree 98 of 100\n",
      "building tree 99 of 100\n",
      "building tree 100 of 100\n"
     ]
    },
    {
     "name": "stderr",
     "output_type": "stream",
     "text": [
      "[Parallel(n_jobs=-1)]: Done 100 out of 100 | elapsed:  5.4min finished\n"
     ]
    },
    {
     "data": {
      "text/html": [
       "<style>#sk-container-id-1 {\n",
       "  /* Definition of color scheme common for light and dark mode */\n",
       "  --sklearn-color-text: black;\n",
       "  --sklearn-color-line: gray;\n",
       "  /* Definition of color scheme for unfitted estimators */\n",
       "  --sklearn-color-unfitted-level-0: #fff5e6;\n",
       "  --sklearn-color-unfitted-level-1: #f6e4d2;\n",
       "  --sklearn-color-unfitted-level-2: #ffe0b3;\n",
       "  --sklearn-color-unfitted-level-3: chocolate;\n",
       "  /* Definition of color scheme for fitted estimators */\n",
       "  --sklearn-color-fitted-level-0: #f0f8ff;\n",
       "  --sklearn-color-fitted-level-1: #d4ebff;\n",
       "  --sklearn-color-fitted-level-2: #b3dbfd;\n",
       "  --sklearn-color-fitted-level-3: cornflowerblue;\n",
       "\n",
       "  /* Specific color for light theme */\n",
       "  --sklearn-color-text-on-default-background: var(--sg-text-color, var(--theme-code-foreground, var(--jp-content-font-color1, black)));\n",
       "  --sklearn-color-background: var(--sg-background-color, var(--theme-background, var(--jp-layout-color0, white)));\n",
       "  --sklearn-color-border-box: var(--sg-text-color, var(--theme-code-foreground, var(--jp-content-font-color1, black)));\n",
       "  --sklearn-color-icon: #696969;\n",
       "\n",
       "  @media (prefers-color-scheme: dark) {\n",
       "    /* Redefinition of color scheme for dark theme */\n",
       "    --sklearn-color-text-on-default-background: var(--sg-text-color, var(--theme-code-foreground, var(--jp-content-font-color1, white)));\n",
       "    --sklearn-color-background: var(--sg-background-color, var(--theme-background, var(--jp-layout-color0, #111)));\n",
       "    --sklearn-color-border-box: var(--sg-text-color, var(--theme-code-foreground, var(--jp-content-font-color1, white)));\n",
       "    --sklearn-color-icon: #878787;\n",
       "  }\n",
       "}\n",
       "\n",
       "#sk-container-id-1 {\n",
       "  color: var(--sklearn-color-text);\n",
       "}\n",
       "\n",
       "#sk-container-id-1 pre {\n",
       "  padding: 0;\n",
       "}\n",
       "\n",
       "#sk-container-id-1 input.sk-hidden--visually {\n",
       "  border: 0;\n",
       "  clip: rect(1px 1px 1px 1px);\n",
       "  clip: rect(1px, 1px, 1px, 1px);\n",
       "  height: 1px;\n",
       "  margin: -1px;\n",
       "  overflow: hidden;\n",
       "  padding: 0;\n",
       "  position: absolute;\n",
       "  width: 1px;\n",
       "}\n",
       "\n",
       "#sk-container-id-1 div.sk-dashed-wrapped {\n",
       "  border: 1px dashed var(--sklearn-color-line);\n",
       "  margin: 0 0.4em 0.5em 0.4em;\n",
       "  box-sizing: border-box;\n",
       "  padding-bottom: 0.4em;\n",
       "  background-color: var(--sklearn-color-background);\n",
       "}\n",
       "\n",
       "#sk-container-id-1 div.sk-container {\n",
       "  /* jupyter's `normalize.less` sets `[hidden] { display: none; }`\n",
       "     but bootstrap.min.css set `[hidden] { display: none !important; }`\n",
       "     so we also need the `!important` here to be able to override the\n",
       "     default hidden behavior on the sphinx rendered scikit-learn.org.\n",
       "     See: https://github.com/scikit-learn/scikit-learn/issues/21755 */\n",
       "  display: inline-block !important;\n",
       "  position: relative;\n",
       "}\n",
       "\n",
       "#sk-container-id-1 div.sk-text-repr-fallback {\n",
       "  display: none;\n",
       "}\n",
       "\n",
       "div.sk-parallel-item,\n",
       "div.sk-serial,\n",
       "div.sk-item {\n",
       "  /* draw centered vertical line to link estimators */\n",
       "  background-image: linear-gradient(var(--sklearn-color-text-on-default-background), var(--sklearn-color-text-on-default-background));\n",
       "  background-size: 2px 100%;\n",
       "  background-repeat: no-repeat;\n",
       "  background-position: center center;\n",
       "}\n",
       "\n",
       "/* Parallel-specific style estimator block */\n",
       "\n",
       "#sk-container-id-1 div.sk-parallel-item::after {\n",
       "  content: \"\";\n",
       "  width: 100%;\n",
       "  border-bottom: 2px solid var(--sklearn-color-text-on-default-background);\n",
       "  flex-grow: 1;\n",
       "}\n",
       "\n",
       "#sk-container-id-1 div.sk-parallel {\n",
       "  display: flex;\n",
       "  align-items: stretch;\n",
       "  justify-content: center;\n",
       "  background-color: var(--sklearn-color-background);\n",
       "  position: relative;\n",
       "}\n",
       "\n",
       "#sk-container-id-1 div.sk-parallel-item {\n",
       "  display: flex;\n",
       "  flex-direction: column;\n",
       "}\n",
       "\n",
       "#sk-container-id-1 div.sk-parallel-item:first-child::after {\n",
       "  align-self: flex-end;\n",
       "  width: 50%;\n",
       "}\n",
       "\n",
       "#sk-container-id-1 div.sk-parallel-item:last-child::after {\n",
       "  align-self: flex-start;\n",
       "  width: 50%;\n",
       "}\n",
       "\n",
       "#sk-container-id-1 div.sk-parallel-item:only-child::after {\n",
       "  width: 0;\n",
       "}\n",
       "\n",
       "/* Serial-specific style estimator block */\n",
       "\n",
       "#sk-container-id-1 div.sk-serial {\n",
       "  display: flex;\n",
       "  flex-direction: column;\n",
       "  align-items: center;\n",
       "  background-color: var(--sklearn-color-background);\n",
       "  padding-right: 1em;\n",
       "  padding-left: 1em;\n",
       "}\n",
       "\n",
       "\n",
       "/* Toggleable style: style used for estimator/Pipeline/ColumnTransformer box that is\n",
       "clickable and can be expanded/collapsed.\n",
       "- Pipeline and ColumnTransformer use this feature and define the default style\n",
       "- Estimators will overwrite some part of the style using the `sk-estimator` class\n",
       "*/\n",
       "\n",
       "/* Pipeline and ColumnTransformer style (default) */\n",
       "\n",
       "#sk-container-id-1 div.sk-toggleable {\n",
       "  /* Default theme specific background. It is overwritten whether we have a\n",
       "  specific estimator or a Pipeline/ColumnTransformer */\n",
       "  background-color: var(--sklearn-color-background);\n",
       "}\n",
       "\n",
       "/* Toggleable label */\n",
       "#sk-container-id-1 label.sk-toggleable__label {\n",
       "  cursor: pointer;\n",
       "  display: block;\n",
       "  width: 100%;\n",
       "  margin-bottom: 0;\n",
       "  padding: 0.5em;\n",
       "  box-sizing: border-box;\n",
       "  text-align: center;\n",
       "}\n",
       "\n",
       "#sk-container-id-1 label.sk-toggleable__label-arrow:before {\n",
       "  /* Arrow on the left of the label */\n",
       "  content: \"▸\";\n",
       "  float: left;\n",
       "  margin-right: 0.25em;\n",
       "  color: var(--sklearn-color-icon);\n",
       "}\n",
       "\n",
       "#sk-container-id-1 label.sk-toggleable__label-arrow:hover:before {\n",
       "  color: var(--sklearn-color-text);\n",
       "}\n",
       "\n",
       "/* Toggleable content - dropdown */\n",
       "\n",
       "#sk-container-id-1 div.sk-toggleable__content {\n",
       "  max-height: 0;\n",
       "  max-width: 0;\n",
       "  overflow: hidden;\n",
       "  text-align: left;\n",
       "  /* unfitted */\n",
       "  background-color: var(--sklearn-color-unfitted-level-0);\n",
       "}\n",
       "\n",
       "#sk-container-id-1 div.sk-toggleable__content.fitted {\n",
       "  /* fitted */\n",
       "  background-color: var(--sklearn-color-fitted-level-0);\n",
       "}\n",
       "\n",
       "#sk-container-id-1 div.sk-toggleable__content pre {\n",
       "  margin: 0.2em;\n",
       "  border-radius: 0.25em;\n",
       "  color: var(--sklearn-color-text);\n",
       "  /* unfitted */\n",
       "  background-color: var(--sklearn-color-unfitted-level-0);\n",
       "}\n",
       "\n",
       "#sk-container-id-1 div.sk-toggleable__content.fitted pre {\n",
       "  /* unfitted */\n",
       "  background-color: var(--sklearn-color-fitted-level-0);\n",
       "}\n",
       "\n",
       "#sk-container-id-1 input.sk-toggleable__control:checked~div.sk-toggleable__content {\n",
       "  /* Expand drop-down */\n",
       "  max-height: 200px;\n",
       "  max-width: 100%;\n",
       "  overflow: auto;\n",
       "}\n",
       "\n",
       "#sk-container-id-1 input.sk-toggleable__control:checked~label.sk-toggleable__label-arrow:before {\n",
       "  content: \"▾\";\n",
       "}\n",
       "\n",
       "/* Pipeline/ColumnTransformer-specific style */\n",
       "\n",
       "#sk-container-id-1 div.sk-label input.sk-toggleable__control:checked~label.sk-toggleable__label {\n",
       "  color: var(--sklearn-color-text);\n",
       "  background-color: var(--sklearn-color-unfitted-level-2);\n",
       "}\n",
       "\n",
       "#sk-container-id-1 div.sk-label.fitted input.sk-toggleable__control:checked~label.sk-toggleable__label {\n",
       "  background-color: var(--sklearn-color-fitted-level-2);\n",
       "}\n",
       "\n",
       "/* Estimator-specific style */\n",
       "\n",
       "/* Colorize estimator box */\n",
       "#sk-container-id-1 div.sk-estimator input.sk-toggleable__control:checked~label.sk-toggleable__label {\n",
       "  /* unfitted */\n",
       "  background-color: var(--sklearn-color-unfitted-level-2);\n",
       "}\n",
       "\n",
       "#sk-container-id-1 div.sk-estimator.fitted input.sk-toggleable__control:checked~label.sk-toggleable__label {\n",
       "  /* fitted */\n",
       "  background-color: var(--sklearn-color-fitted-level-2);\n",
       "}\n",
       "\n",
       "#sk-container-id-1 div.sk-label label.sk-toggleable__label,\n",
       "#sk-container-id-1 div.sk-label label {\n",
       "  /* The background is the default theme color */\n",
       "  color: var(--sklearn-color-text-on-default-background);\n",
       "}\n",
       "\n",
       "/* On hover, darken the color of the background */\n",
       "#sk-container-id-1 div.sk-label:hover label.sk-toggleable__label {\n",
       "  color: var(--sklearn-color-text);\n",
       "  background-color: var(--sklearn-color-unfitted-level-2);\n",
       "}\n",
       "\n",
       "/* Label box, darken color on hover, fitted */\n",
       "#sk-container-id-1 div.sk-label.fitted:hover label.sk-toggleable__label.fitted {\n",
       "  color: var(--sklearn-color-text);\n",
       "  background-color: var(--sklearn-color-fitted-level-2);\n",
       "}\n",
       "\n",
       "/* Estimator label */\n",
       "\n",
       "#sk-container-id-1 div.sk-label label {\n",
       "  font-family: monospace;\n",
       "  font-weight: bold;\n",
       "  display: inline-block;\n",
       "  line-height: 1.2em;\n",
       "}\n",
       "\n",
       "#sk-container-id-1 div.sk-label-container {\n",
       "  text-align: center;\n",
       "}\n",
       "\n",
       "/* Estimator-specific */\n",
       "#sk-container-id-1 div.sk-estimator {\n",
       "  font-family: monospace;\n",
       "  border: 1px dotted var(--sklearn-color-border-box);\n",
       "  border-radius: 0.25em;\n",
       "  box-sizing: border-box;\n",
       "  margin-bottom: 0.5em;\n",
       "  /* unfitted */\n",
       "  background-color: var(--sklearn-color-unfitted-level-0);\n",
       "}\n",
       "\n",
       "#sk-container-id-1 div.sk-estimator.fitted {\n",
       "  /* fitted */\n",
       "  background-color: var(--sklearn-color-fitted-level-0);\n",
       "}\n",
       "\n",
       "/* on hover */\n",
       "#sk-container-id-1 div.sk-estimator:hover {\n",
       "  /* unfitted */\n",
       "  background-color: var(--sklearn-color-unfitted-level-2);\n",
       "}\n",
       "\n",
       "#sk-container-id-1 div.sk-estimator.fitted:hover {\n",
       "  /* fitted */\n",
       "  background-color: var(--sklearn-color-fitted-level-2);\n",
       "}\n",
       "\n",
       "/* Specification for estimator info (e.g. \"i\" and \"?\") */\n",
       "\n",
       "/* Common style for \"i\" and \"?\" */\n",
       "\n",
       ".sk-estimator-doc-link,\n",
       "a:link.sk-estimator-doc-link,\n",
       "a:visited.sk-estimator-doc-link {\n",
       "  float: right;\n",
       "  font-size: smaller;\n",
       "  line-height: 1em;\n",
       "  font-family: monospace;\n",
       "  background-color: var(--sklearn-color-background);\n",
       "  border-radius: 1em;\n",
       "  height: 1em;\n",
       "  width: 1em;\n",
       "  text-decoration: none !important;\n",
       "  margin-left: 1ex;\n",
       "  /* unfitted */\n",
       "  border: var(--sklearn-color-unfitted-level-1) 1pt solid;\n",
       "  color: var(--sklearn-color-unfitted-level-1);\n",
       "}\n",
       "\n",
       ".sk-estimator-doc-link.fitted,\n",
       "a:link.sk-estimator-doc-link.fitted,\n",
       "a:visited.sk-estimator-doc-link.fitted {\n",
       "  /* fitted */\n",
       "  border: var(--sklearn-color-fitted-level-1) 1pt solid;\n",
       "  color: var(--sklearn-color-fitted-level-1);\n",
       "}\n",
       "\n",
       "/* On hover */\n",
       "div.sk-estimator:hover .sk-estimator-doc-link:hover,\n",
       ".sk-estimator-doc-link:hover,\n",
       "div.sk-label-container:hover .sk-estimator-doc-link:hover,\n",
       ".sk-estimator-doc-link:hover {\n",
       "  /* unfitted */\n",
       "  background-color: var(--sklearn-color-unfitted-level-3);\n",
       "  color: var(--sklearn-color-background);\n",
       "  text-decoration: none;\n",
       "}\n",
       "\n",
       "div.sk-estimator.fitted:hover .sk-estimator-doc-link.fitted:hover,\n",
       ".sk-estimator-doc-link.fitted:hover,\n",
       "div.sk-label-container:hover .sk-estimator-doc-link.fitted:hover,\n",
       ".sk-estimator-doc-link.fitted:hover {\n",
       "  /* fitted */\n",
       "  background-color: var(--sklearn-color-fitted-level-3);\n",
       "  color: var(--sklearn-color-background);\n",
       "  text-decoration: none;\n",
       "}\n",
       "\n",
       "/* Span, style for the box shown on hovering the info icon */\n",
       ".sk-estimator-doc-link span {\n",
       "  display: none;\n",
       "  z-index: 9999;\n",
       "  position: relative;\n",
       "  font-weight: normal;\n",
       "  right: .2ex;\n",
       "  padding: .5ex;\n",
       "  margin: .5ex;\n",
       "  width: min-content;\n",
       "  min-width: 20ex;\n",
       "  max-width: 50ex;\n",
       "  color: var(--sklearn-color-text);\n",
       "  box-shadow: 2pt 2pt 4pt #999;\n",
       "  /* unfitted */\n",
       "  background: var(--sklearn-color-unfitted-level-0);\n",
       "  border: .5pt solid var(--sklearn-color-unfitted-level-3);\n",
       "}\n",
       "\n",
       ".sk-estimator-doc-link.fitted span {\n",
       "  /* fitted */\n",
       "  background: var(--sklearn-color-fitted-level-0);\n",
       "  border: var(--sklearn-color-fitted-level-3);\n",
       "}\n",
       "\n",
       ".sk-estimator-doc-link:hover span {\n",
       "  display: block;\n",
       "}\n",
       "\n",
       "/* \"?\"-specific style due to the `<a>` HTML tag */\n",
       "\n",
       "#sk-container-id-1 a.estimator_doc_link {\n",
       "  float: right;\n",
       "  font-size: 1rem;\n",
       "  line-height: 1em;\n",
       "  font-family: monospace;\n",
       "  background-color: var(--sklearn-color-background);\n",
       "  border-radius: 1rem;\n",
       "  height: 1rem;\n",
       "  width: 1rem;\n",
       "  text-decoration: none;\n",
       "  /* unfitted */\n",
       "  color: var(--sklearn-color-unfitted-level-1);\n",
       "  border: var(--sklearn-color-unfitted-level-1) 1pt solid;\n",
       "}\n",
       "\n",
       "#sk-container-id-1 a.estimator_doc_link.fitted {\n",
       "  /* fitted */\n",
       "  border: var(--sklearn-color-fitted-level-1) 1pt solid;\n",
       "  color: var(--sklearn-color-fitted-level-1);\n",
       "}\n",
       "\n",
       "/* On hover */\n",
       "#sk-container-id-1 a.estimator_doc_link:hover {\n",
       "  /* unfitted */\n",
       "  background-color: var(--sklearn-color-unfitted-level-3);\n",
       "  color: var(--sklearn-color-background);\n",
       "  text-decoration: none;\n",
       "}\n",
       "\n",
       "#sk-container-id-1 a.estimator_doc_link.fitted:hover {\n",
       "  /* fitted */\n",
       "  background-color: var(--sklearn-color-fitted-level-3);\n",
       "}\n",
       "</style><div id=\"sk-container-id-1\" class=\"sk-top-container\"><div class=\"sk-text-repr-fallback\"><pre>RandomForestRegressor(n_jobs=-1, verbose=2)</pre><b>In a Jupyter environment, please rerun this cell to show the HTML representation or trust the notebook. <br />On GitHub, the HTML representation is unable to render, please try loading this page with nbviewer.org.</b></div><div class=\"sk-container\" hidden><div class=\"sk-item\"><div class=\"sk-estimator fitted sk-toggleable\"><input class=\"sk-toggleable__control sk-hidden--visually\" id=\"sk-estimator-id-1\" type=\"checkbox\" checked><label for=\"sk-estimator-id-1\" class=\"sk-toggleable__label fitted sk-toggleable__label-arrow fitted\">&nbsp;&nbsp;RandomForestRegressor<a class=\"sk-estimator-doc-link fitted\" rel=\"noreferrer\" target=\"_blank\" href=\"https://scikit-learn.org/1.5/modules/generated/sklearn.ensemble.RandomForestRegressor.html\">?<span>Documentation for RandomForestRegressor</span></a><span class=\"sk-estimator-doc-link fitted\">i<span>Fitted</span></span></label><div class=\"sk-toggleable__content fitted\"><pre>RandomForestRegressor(n_jobs=-1, verbose=2)</pre></div> </div></div></div></div>"
      ],
      "text/plain": [
       "RandomForestRegressor(n_jobs=-1, verbose=2)"
      ]
     },
     "execution_count": 9,
     "metadata": {},
     "output_type": "execute_result"
    }
   ],
   "source": [
    "from sklearn.ensemble import RandomForestRegressor\n",
    "\n",
    "reg = RandomForestRegressor(n_estimators=100, n_jobs=-1, verbose=2)\n",
    "reg.fit(X_train, y_train)"
   ]
  },
  {
   "cell_type": "code",
   "execution_count": 10,
   "metadata": {},
   "outputs": [
    {
     "name": "stderr",
     "output_type": "stream",
     "text": [
      "[Parallel(n_jobs=16)]: Using backend ThreadingBackend with 16 concurrent workers.\n",
      "[Parallel(n_jobs=16)]: Done   9 tasks      | elapsed:    0.2s\n"
     ]
    },
    {
     "name": "stdout",
     "output_type": "stream",
     "text": [
      "MSE: 239830658231409.2\n",
      "R2 Score: 0.6201288087155145\n"
     ]
    },
    {
     "name": "stderr",
     "output_type": "stream",
     "text": [
      "[Parallel(n_jobs=16)]: Done 100 out of 100 | elapsed:    1.3s finished\n"
     ]
    }
   ],
   "source": [
    "from sklearn.metrics import r2_score, mean_squared_error\n",
    "\n",
    "y_pred = reg.predict(X_test)\n",
    "\n",
    "print(f\"MSE: {mean_squared_error(y_test, y_pred)}\")\n",
    "print(f\"R2 Score: {r2_score(y_test, y_pred)}\")"
   ]
  },
  {
   "cell_type": "code",
   "execution_count": 11,
   "metadata": {},
   "outputs": [],
   "source": [
    "import pickle\n",
    "\n",
    "with open(\"view_model.pkl\", \"wb\") as f:\n",
    "    pickle.dump(reg, f)"
   ]
  },
  {
   "cell_type": "code",
   "execution_count": 9,
   "metadata": {},
   "outputs": [],
   "source": [
    "import pickle\n",
    "\n",
    "with open(\"view_model.pkl\", \"rb\") as f:\n",
    "    reg = pickle.load(f)"
   ]
  },
  {
   "cell_type": "code",
   "execution_count": 12,
   "metadata": {},
   "outputs": [
    {
     "name": "stderr",
     "output_type": "stream",
     "text": [
      "[Parallel(n_jobs=16)]: Using backend ThreadingBackend with 16 concurrent workers.\n",
      "[Parallel(n_jobs=16)]: Done   9 tasks      | elapsed:    0.1s\n"
     ]
    },
    {
     "name": "stdout",
     "output_type": "stream",
     "text": [
      "MSE: 239830658231409.2\n",
      "R2 Score: 0.6201288087155145\n"
     ]
    },
    {
     "name": "stderr",
     "output_type": "stream",
     "text": [
      "[Parallel(n_jobs=16)]: Done 100 out of 100 | elapsed:    1.4s finished\n"
     ]
    }
   ],
   "source": [
    "from sklearn.metrics import r2_score, mean_squared_error\n",
    "\n",
    "y_pred = reg.predict(X_test)\n",
    "\n",
    "print(f\"MSE: {mean_squared_error(y_test, y_pred)}\")\n",
    "print(f\"R2 Score: {r2_score(y_test, y_pred)}\")"
   ]
  },
  {
   "cell_type": "code",
   "execution_count": 6,
   "metadata": {},
   "outputs": [],
   "source": [
    "models.to_csv(\"model.csv\")"
   ]
  },
  {
   "cell_type": "code",
   "execution_count": 16,
   "metadata": {},
   "outputs": [
    {
     "name": "stderr",
     "output_type": "stream",
     "text": [
      "  3%|▎         | 1/38 [00:55<33:58, 55.11s/it]"
     ]
    },
    {
     "name": "stdout",
     "output_type": "stream",
     "text": [
      "{'Model': 'AdaBoostRegressor', 'R-Squared': -1.0948206541883607, 'Adjusted R-Squared': -1.0984753991317158, 'RMSE': np.float64(700522.5494587389), 'Time taken': 55.106881856918335}\n"
     ]
    },
    {
     "name": "stderr",
     "output_type": "stream",
     "text": [
      "  5%|▌         | 2/38 [01:37<28:24, 47.36s/it]"
     ]
    },
    {
     "name": "stdout",
     "output_type": "stream",
     "text": [
      "{'Model': 'BaggingRegressor', 'R-Squared': 0.35870010151117526, 'Adjusted R-Squared': 0.3575812527178478, 'RMSE': np.float64(387595.99558733415), 'Time taken': 41.93650984764099}\n"
     ]
    },
    {
     "name": "stderr",
     "output_type": "stream",
     "text": [
      "  8%|▊         | 3/38 [01:47<17:45, 30.44s/it]"
     ]
    },
    {
     "name": "stdout",
     "output_type": "stream",
     "text": [
      "{'Model': 'BayesianRidge', 'R-Squared': 0.16305191898559457, 'Adjusted R-Squared': 0.16159173108797076, 'RMSE': np.float64(442790.1536771346), 'Time taken': 10.310353994369507}\n"
     ]
    },
    {
     "name": "stderr",
     "output_type": "stream",
     "text": [
      " 11%|█         | 4/38 [02:03<14:00, 24.72s/it]"
     ]
    },
    {
     "name": "stdout",
     "output_type": "stream",
     "text": [
      "{'Model': 'DecisionTreeRegressor', 'R-Squared': -0.16532168333899744, 'Adjusted R-Squared': -0.167354770763952, 'RMSE': np.float64(522482.3326670968), 'Time taken': 15.93497896194458}\n"
     ]
    },
    {
     "name": "stderr",
     "output_type": "stream",
     "text": [
      " 13%|█▎        | 5/38 [02:05<09:06, 16.56s/it]"
     ]
    },
    {
     "name": "stdout",
     "output_type": "stream",
     "text": [
      "{'Model': 'DummyRegressor', 'R-Squared': -2.484529528956614e-05, 'Adjusted R-Squared': -0.0017695463222080487, 'RMSE': np.float64(484009.7284960373), 'Time taken': 2.1054341793060303}\n"
     ]
    },
    {
     "name": "stderr",
     "output_type": "stream",
     "text": [
      " 16%|█▌        | 6/38 [02:11<06:59, 13.10s/it]"
     ]
    },
    {
     "name": "stdout",
     "output_type": "stream",
     "text": [
      "{'Model': 'ElasticNet', 'R-Squared': 0.1490203203377063, 'Adjusted R-Squared': 0.14753565210373343, 'RMSE': np.float64(446486.45762034116), 'Time taken': 6.378645181655884}\n"
     ]
    },
    {
     "name": "stderr",
     "output_type": "stream",
     "text": [
      " 18%|█▊        | 7/38 [02:19<05:46, 11.19s/it]"
     ]
    },
    {
     "name": "stdout",
     "output_type": "stream",
     "text": [
      "{'Model': 'ElasticNetCV', 'R-Squared': 0.003427746895528716, 'Adjusted R-Squared': 0.0016890694600931733, 'RMSE': np.float64(483173.48274038994), 'Time taken': 7.2451817989349365}\n"
     ]
    },
    {
     "name": "stderr",
     "output_type": "stream",
     "text": [
      " 21%|██        | 8/38 [02:34<06:18, 12.62s/it]"
     ]
    },
    {
     "name": "stdout",
     "output_type": "stream",
     "text": [
      "{'Model': 'ExtraTreeRegressor', 'R-Squared': -0.26552171348478204, 'Adjusted R-Squared': -0.2677296156619051, 'RMSE': np.float64(544481.961715529), 'Time taken': 15.685460567474365}\n"
     ]
    },
    {
     "name": "stderr",
     "output_type": "stream",
     "text": [
      " 24%|██▎       | 9/38 [12:04<1:30:21, 186.93s/it]"
     ]
    },
    {
     "name": "stdout",
     "output_type": "stream",
     "text": [
      "{'Model': 'ExtraTreesRegressor', 'R-Squared': 0.3215494113330879, 'Adjusted R-Squared': 0.32036574730280964, 'RMSE': np.float64(398664.72317705746), 'Time taken': 570.2211518287659}\n"
     ]
    },
    {
     "name": "stderr",
     "output_type": "stream",
     "text": [
      " 26%|██▋       | 10/38 [12:07<1:00:37, 129.92s/it]"
     ]
    },
    {
     "name": "stdout",
     "output_type": "stream",
     "text": [
      "GammaRegressor model failed to execute\n",
      "Some value(s) of y are out of the valid range of the loss 'HalfGammaLoss'.\n"
     ]
    },
    {
     "name": "stderr",
     "output_type": "stream",
     "text": [
      " 29%|██▉       | 11/38 [12:09<40:51, 90.81s/it]   "
     ]
    },
    {
     "name": "stdout",
     "output_type": "stream",
     "text": [
      "GaussianProcessRegressor model failed to execute\n",
      "Unable to allocate 969. GiB for an array with shape (360584, 360584) and data type float64\n"
     ]
    },
    {
     "name": "stderr",
     "output_type": "stream",
     "text": [
      " 32%|███▏      | 12/38 [16:01<58:01, 133.89s/it]"
     ]
    },
    {
     "name": "stdout",
     "output_type": "stream",
     "text": [
      "{'Model': 'GradientBoostingRegressor', 'R-Squared': 0.3043999818292905, 'Adjusted R-Squared': 0.30318639791511426, 'RMSE': np.float64(403671.87163672043), 'Time taken': 232.4106366634369}\n"
     ]
    },
    {
     "name": "stderr",
     "output_type": "stream",
     "text": [
      " 34%|███▍      | 13/38 [16:13<40:21, 96.88s/it] "
     ]
    },
    {
     "name": "stdout",
     "output_type": "stream",
     "text": [
      "{'Model': 'HistGradientBoostingRegressor', 'R-Squared': 0.39473604947333296, 'Adjusted R-Squared': 0.39368007107338754, 'RMSE': np.float64(376548.6544221472), 'Time taken': 11.703105449676514}\n"
     ]
    },
    {
     "name": "stderr",
     "output_type": "stream",
     "text": [
      " 37%|███▋      | 14/38 [16:44<30:46, 76.94s/it]"
     ]
    },
    {
     "name": "stdout",
     "output_type": "stream",
     "text": [
      "{'Model': 'HuberRegressor', 'R-Squared': 0.06527823945336186, 'Adjusted R-Squared': 0.06364746995480286, 'RMSE': np.float64(467939.67876295367), 'Time taken': 30.886905431747437}\n"
     ]
    },
    {
     "name": "stderr",
     "output_type": "stream",
     "text": [
      " 39%|███▉      | 15/38 [18:17<31:24, 81.95s/it]"
     ]
    },
    {
     "name": "stdout",
     "output_type": "stream",
     "text": [
      "{'Model': 'KNeighborsRegressor', 'R-Squared': 0.21765855343913698, 'Adjusted R-Squared': 0.21629363542571245, 'RMSE': np.float64(428101.6141188586), 'Time taken': 93.55331516265869}\n"
     ]
    },
    {
     "name": "stderr",
     "output_type": "stream",
     "text": [
      " 42%|████▏     | 16/38 [18:20<21:14, 57.93s/it]"
     ]
    },
    {
     "name": "stdout",
     "output_type": "stream",
     "text": [
      "KernelRidge model failed to execute\n",
      "Unable to allocate 969. GiB for an array with shape (360584, 360584) and data type float64\n"
     ]
    },
    {
     "name": "stderr",
     "output_type": "stream",
     "text": [
      " 45%|████▍     | 17/38 [18:22<14:28, 41.34s/it]"
     ]
    },
    {
     "name": "stdout",
     "output_type": "stream",
     "text": [
      "{'Model': 'Lars', 'R-Squared': 0.16300149039059653, 'Adjusted R-Squared': 0.16154121451233716, 'RMSE': np.float64(442803.4931837863), 'Time taken': 2.754673719406128}\n"
     ]
    },
    {
     "name": "stderr",
     "output_type": "stream",
     "text": [
      " 47%|████▋     | 18/38 [18:45<11:55, 35.77s/it]"
     ]
    },
    {
     "name": "stdout",
     "output_type": "stream",
     "text": [
      "{'Model': 'LarsCV', 'R-Squared': 0.16300792258199892, 'Adjusted R-Squared': 0.16154765792571169, 'RMSE': np.float64(442801.79174569465), 'Time taken': 22.80185842514038}\n"
     ]
    },
    {
     "name": "stderr",
     "output_type": "stream",
     "text": [
      " 50%|█████     | 19/38 [20:04<15:25, 48.71s/it]"
     ]
    },
    {
     "name": "stdout",
     "output_type": "stream",
     "text": [
      "{'Model': 'Lasso', 'R-Squared': 0.16300195266093287, 'Adjusted R-Squared': 0.16154167758917704, 'RMSE': np.float64(442803.3709046271), 'Time taken': 78.83436918258667}\n"
     ]
    },
    {
     "name": "stderr",
     "output_type": "stream",
     "text": [
      " 53%|█████▎    | 20/38 [20:13<11:04, 36.94s/it]"
     ]
    },
    {
     "name": "stdout",
     "output_type": "stream",
     "text": [
      "{'Model': 'LassoCV', 'R-Squared': 0.16299183348817703, 'Adjusted R-Squared': 0.16153154076192866, 'RMSE': np.float64(442806.04760756466), 'Time taken': 9.4956693649292}\n"
     ]
    },
    {
     "name": "stderr",
     "output_type": "stream",
     "text": [
      " 55%|█████▌    | 21/38 [20:16<07:32, 26.64s/it]"
     ]
    },
    {
     "name": "stdout",
     "output_type": "stream",
     "text": [
      "{'Model': 'LassoLars', 'R-Squared': 0.16300182289096588, 'Adjusted R-Squared': 0.1615415475928058, 'RMSE': np.float64(442803.4052312165), 'Time taken': 2.616062879562378}\n"
     ]
    },
    {
     "name": "stderr",
     "output_type": "stream",
     "text": [
      " 58%|█████▊    | 22/38 [20:36<06:35, 24.75s/it]"
     ]
    },
    {
     "name": "stdout",
     "output_type": "stream",
     "text": [
      "{'Model': 'LassoLarsCV', 'R-Squared': 0.1630087422219536, 'Adjusted R-Squared': 0.1615484789956575, 'RMSE': np.float64(442801.574934724), 'Time taken': 20.34814953804016}\n"
     ]
    },
    {
     "name": "stderr",
     "output_type": "stream",
     "text": [
      " 61%|██████    | 23/38 [20:45<04:57, 19.85s/it]"
     ]
    },
    {
     "name": "stdout",
     "output_type": "stream",
     "text": [
      "{'Model': 'LassoLarsIC', 'R-Squared': 0.1630021942560208, 'Adjusted R-Squared': 0.1615419196057657, 'RMSE': np.float64(442803.3069981894), 'Time taken': 8.437324523925781}\n"
     ]
    },
    {
     "name": "stderr",
     "output_type": "stream",
     "text": [
      " 63%|██████▎   | 24/38 [20:52<03:44, 16.04s/it]"
     ]
    },
    {
     "name": "stdout",
     "output_type": "stream",
     "text": [
      "{'Model': 'LinearRegression', 'R-Squared': 0.1630001867293952, 'Adjusted R-Squared': 0.16153990857669331, 'RMSE': np.float64(442803.838026401), 'Time taken': 7.133126258850098}\n"
     ]
    },
    {
     "name": "stderr",
     "output_type": "stream",
     "text": [
      " 66%|██████▌   | 25/38 [20:56<02:41, 12.40s/it]"
     ]
    },
    {
     "name": "stdout",
     "output_type": "stream",
     "text": [
      "{'Model': 'LinearSVR', 'R-Squared': 0.01582210882833457, 'Adjusted R-Squared': 0.014105055311638526, 'RMSE': np.float64(480159.46954283374), 'Time taken': 3.9107604026794434}\n"
     ]
    },
    {
     "name": "stderr",
     "output_type": "stream",
     "text": [
      " 68%|██████▊   | 26/38 [28:27<28:48, 144.01s/it]"
     ]
    },
    {
     "name": "stdout",
     "output_type": "stream",
     "text": [
      "{'Model': 'MLPRegressor', 'R-Squared': 0.23020374843799263, 'Adjusted R-Squared': 0.22886071749537473, 'RMSE': np.float64(424655.34223188343), 'Time taken': 451.0737683773041}\n"
     ]
    },
    {
     "name": "stderr",
     "output_type": "stream",
     "text": [
      " 71%|███████   | 27/38 [28:30<18:38, 101.66s/it]"
     ]
    },
    {
     "name": "stdout",
     "output_type": "stream",
     "text": [
      "{'Model': 'OrthogonalMatchingPursuit', 'R-Squared': 0.1521738739629348, 'Adjusted R-Squared': 0.15069470760051462, 'RMSE': np.float64(445658.39679838), 'Time taken': 2.8458549976348877}\n"
     ]
    },
    {
     "name": "stderr",
     "output_type": "stream",
     "text": [
      " 74%|███████▎  | 28/38 [28:44<12:33, 75.32s/it] "
     ]
    },
    {
     "name": "stdout",
     "output_type": "stream",
     "text": [
      "{'Model': 'OrthogonalMatchingPursuitCV', 'R-Squared': 0.1521738739629348, 'Adjusted R-Squared': 0.15069470760051462, 'RMSE': np.float64(445658.39679838), 'Time taken': 13.861085891723633}\n"
     ]
    },
    {
     "name": "stderr",
     "output_type": "stream",
     "text": [
      " 76%|███████▋  | 29/38 [28:54<08:22, 55.79s/it]"
     ]
    },
    {
     "name": "stdout",
     "output_type": "stream",
     "text": [
      "{'Model': 'PoissonRegressor', 'R-Squared': -0.03949221944279113, 'Adjusted R-Squared': -0.0413057775271406, 'RMSE': np.float64(493468.3662023651), 'Time taken': 10.234314918518066}\n"
     ]
    },
    {
     "name": "stderr",
     "output_type": "stream",
     "text": [
      " 79%|███████▉  | 30/38 [29:08<05:45, 43.21s/it]"
     ]
    },
    {
     "name": "stdout",
     "output_type": "stream",
     "text": [
      "{'Model': 'RANSACRegressor', 'R-Squared': -1.3275830600678341e+21, 'Adjusted R-Squared': -1.3298992380499282e+21, 'RMSE': np.float64(1.7635165796648246e+16), 'Time taken': 13.844015121459961}\n"
     ]
    },
    {
     "name": "stderr",
     "output_type": "stream",
     "text": [
      " 82%|████████▏ | 31/38 [34:21<14:29, 124.20s/it]"
     ]
    },
    {
     "name": "stdout",
     "output_type": "stream",
     "text": [
      "{'Model': 'RandomForestRegressor', 'R-Squared': 0.40205306424654985, 'Adjusted R-Squared': 0.401009851532626, 'RMSE': np.float64(374265.69200889056), 'Time taken': 313.1670272350311}\n"
     ]
    },
    {
     "name": "stderr",
     "output_type": "stream",
     "text": [
      " 84%|████████▍ | 32/38 [34:24<08:46, 87.74s/it] "
     ]
    },
    {
     "name": "stdout",
     "output_type": "stream",
     "text": [
      "{'Model': 'Ridge', 'R-Squared': 0.163001595529488, 'Adjusted R-Squared': 0.16154131983466002, 'RMSE': np.float64(442803.46537258395), 'Time taken': 2.6642894744873047}\n"
     ]
    },
    {
     "name": "stderr",
     "output_type": "stream",
     "text": [
      " 87%|████████▋ | 33/38 [34:36<05:24, 65.00s/it]"
     ]
    },
    {
     "name": "stdout",
     "output_type": "stream",
     "text": [
      "{'Model': 'RidgeCV', 'R-Squared': 0.16300253924545682, 'Adjusted R-Squared': 0.16154226519709014, 'RMSE': np.float64(442803.21574198914), 'Time taken': 11.93172812461853}\n"
     ]
    },
    {
     "name": "stderr",
     "output_type": "stream",
     "text": [
      " 89%|████████▉ | 34/38 [34:42<03:09, 47.30s/it]"
     ]
    },
    {
     "name": "stdout",
     "output_type": "stream",
     "text": [
      "{'Model': 'SGDRegressor', 'R-Squared': 0.15409909647289954, 'Adjusted R-Squared': 0.15262328896471788, 'RMSE': np.float64(445152.11421212525), 'Time taken': 6.01913595199585}\n"
     ]
    },
    {
     "name": "stderr",
     "output_type": "stream",
     "text": [
      " 92%|█████████▏| 35/38 [34:49<01:46, 35.39s/it]"
     ]
    },
    {
     "name": "stdout",
     "output_type": "stream",
     "text": [
      "{'Model': 'TransformedTargetRegressor', 'R-Squared': 0.1630001867293952, 'Adjusted R-Squared': 0.16153990857669331, 'RMSE': np.float64(442803.838026401), 'Time taken': 7.576039791107178}\n"
     ]
    },
    {
     "name": "stderr",
     "output_type": "stream",
     "text": [
      " 95%|█████████▍| 36/38 [34:53<00:52, 26.05s/it]"
     ]
    },
    {
     "name": "stdout",
     "output_type": "stream",
     "text": [
      "{'Model': 'TweedieRegressor', 'R-Squared': 0.12981677841329342, 'Adjusted R-Squared': 0.12829860657241154, 'RMSE': np.float64(451496.1470833625), 'Time taken': 4.277850389480591}\n"
     ]
    },
    {
     "name": "stderr",
     "output_type": "stream",
     "text": [
      " 97%|█████████▋| 37/38 [34:59<00:19, 19.84s/it]"
     ]
    },
    {
     "name": "stdout",
     "output_type": "stream",
     "text": [
      "{'Model': 'XGBRegressor', 'R-Squared': 0.35942697525024414, 'Adjusted R-Squared': 0.3583093946027681, 'RMSE': np.float64(387376.26260416553), 'Time taken': 5.344147205352783}\n",
      "[LightGBM] [Info] Auto-choosing row-wise multi-threading, the overhead of testing was 0.060699 seconds.\n",
      "You can set `force_row_wise=true` to remove the overhead.\n",
      "And if memory is not enough, you can set `force_col_wise=true`.\n",
      "[LightGBM] [Info] Total Bins 1506\n",
      "[LightGBM] [Info] Number of data points in the train set: 360584, number of used features: 166\n",
      "[LightGBM] [Info] Start training from score 126122.303688\n"
     ]
    },
    {
     "name": "stderr",
     "output_type": "stream",
     "text": [
      "100%|██████████| 38/38 [35:03<00:00, 55.35s/it]"
     ]
    },
    {
     "name": "stdout",
     "output_type": "stream",
     "text": [
      "{'Model': 'LGBMRegressor', 'R-Squared': 0.39339387427611316, 'Adjusted R-Squared': 0.3923355542399015, 'RMSE': np.float64(376965.92229003133), 'Time taken': 4.181563138961792}\n",
      "                                      Adjusted R-Squared  \\\n",
      "Model                                                      \n",
      "RandomForestRegressor                               0.40   \n",
      "HistGradientBoostingRegressor                       0.39   \n",
      "LGBMRegressor                                       0.39   \n",
      "XGBRegressor                                        0.36   \n",
      "BaggingRegressor                                    0.36   \n",
      "ExtraTreesRegressor                                 0.32   \n",
      "GradientBoostingRegressor                           0.30   \n",
      "MLPRegressor                                        0.23   \n",
      "KNeighborsRegressor                                 0.22   \n",
      "BayesianRidge                                       0.16   \n",
      "LassoLarsCV                                         0.16   \n",
      "LarsCV                                              0.16   \n",
      "RidgeCV                                             0.16   \n",
      "LassoLarsIC                                         0.16   \n",
      "Lasso                                               0.16   \n",
      "LassoLars                                           0.16   \n",
      "Ridge                                               0.16   \n",
      "Lars                                                0.16   \n",
      "TransformedTargetRegressor                          0.16   \n",
      "LinearRegression                                    0.16   \n",
      "LassoCV                                             0.16   \n",
      "SGDRegressor                                        0.15   \n",
      "OrthogonalMatchingPursuit                           0.15   \n",
      "OrthogonalMatchingPursuitCV                         0.15   \n",
      "ElasticNet                                          0.15   \n",
      "TweedieRegressor                                    0.13   \n",
      "HuberRegressor                                      0.06   \n",
      "LinearSVR                                           0.01   \n",
      "ElasticNetCV                                        0.00   \n",
      "DummyRegressor                                     -0.00   \n",
      "PoissonRegressor                                   -0.04   \n",
      "DecisionTreeRegressor                              -0.17   \n",
      "ExtraTreeRegressor                                 -0.27   \n",
      "AdaBoostRegressor                                  -1.10   \n",
      "RANSACRegressor               -1329899238049928183808.00   \n",
      "\n",
      "                                               R-Squared                 RMSE  \\\n",
      "Model                                                                           \n",
      "RandomForestRegressor                               0.40            374265.69   \n",
      "HistGradientBoostingRegressor                       0.39            376548.65   \n",
      "LGBMRegressor                                       0.39            376965.92   \n",
      "XGBRegressor                                        0.36            387376.26   \n",
      "BaggingRegressor                                    0.36            387596.00   \n",
      "ExtraTreesRegressor                                 0.32            398664.72   \n",
      "GradientBoostingRegressor                           0.30            403671.87   \n",
      "MLPRegressor                                        0.23            424655.34   \n",
      "KNeighborsRegressor                                 0.22            428101.61   \n",
      "BayesianRidge                                       0.16            442790.15   \n",
      "LassoLarsCV                                         0.16            442801.57   \n",
      "LarsCV                                              0.16            442801.79   \n",
      "RidgeCV                                             0.16            442803.22   \n",
      "LassoLarsIC                                         0.16            442803.31   \n",
      "Lasso                                               0.16            442803.37   \n",
      "LassoLars                                           0.16            442803.41   \n",
      "Ridge                                               0.16            442803.47   \n",
      "Lars                                                0.16            442803.49   \n",
      "TransformedTargetRegressor                          0.16            442803.84   \n",
      "LinearRegression                                    0.16            442803.84   \n",
      "LassoCV                                             0.16            442806.05   \n",
      "SGDRegressor                                        0.15            445152.11   \n",
      "OrthogonalMatchingPursuit                           0.15            445658.40   \n",
      "OrthogonalMatchingPursuitCV                         0.15            445658.40   \n",
      "ElasticNet                                          0.15            446486.46   \n",
      "TweedieRegressor                                    0.13            451496.15   \n",
      "HuberRegressor                                      0.07            467939.68   \n",
      "LinearSVR                                           0.02            480159.47   \n",
      "ElasticNetCV                                        0.00            483173.48   \n",
      "DummyRegressor                                     -0.00            484009.73   \n",
      "PoissonRegressor                                   -0.04            493468.37   \n",
      "DecisionTreeRegressor                              -0.17            522482.33   \n",
      "ExtraTreeRegressor                                 -0.27            544481.96   \n",
      "AdaBoostRegressor                                  -1.09            700522.55   \n",
      "RANSACRegressor               -1327583060067834134528.00 17635165796648246.00   \n",
      "\n",
      "                               Time Taken  \n",
      "Model                                      \n",
      "RandomForestRegressor              313.17  \n",
      "HistGradientBoostingRegressor       11.70  \n",
      "LGBMRegressor                        4.18  \n",
      "XGBRegressor                         5.34  \n",
      "BaggingRegressor                    41.94  \n",
      "ExtraTreesRegressor                570.22  \n",
      "GradientBoostingRegressor          232.41  \n",
      "MLPRegressor                       451.07  \n",
      "KNeighborsRegressor                 93.55  \n",
      "BayesianRidge                       10.31  \n",
      "LassoLarsCV                         20.35  \n",
      "LarsCV                              22.80  \n",
      "RidgeCV                             11.93  \n",
      "LassoLarsIC                          8.44  \n",
      "Lasso                               78.83  \n",
      "LassoLars                            2.62  \n",
      "Ridge                                2.66  \n",
      "Lars                                 2.75  \n",
      "TransformedTargetRegressor           7.58  \n",
      "LinearRegression                     7.13  \n",
      "LassoCV                              9.50  \n",
      "SGDRegressor                         6.02  \n",
      "OrthogonalMatchingPursuit            2.85  \n",
      "OrthogonalMatchingPursuitCV         13.86  \n",
      "ElasticNet                           6.38  \n",
      "TweedieRegressor                     4.28  \n",
      "HuberRegressor                      30.89  \n",
      "LinearSVR                            3.91  \n",
      "ElasticNetCV                         7.25  \n",
      "DummyRegressor                       2.11  \n",
      "PoissonRegressor                    10.23  \n",
      "DecisionTreeRegressor               15.93  \n",
      "ExtraTreeRegressor                  15.69  \n",
      "AdaBoostRegressor                   55.11  \n",
      "RANSACRegressor                     13.84  \n"
     ]
    },
    {
     "name": "stderr",
     "output_type": "stream",
     "text": [
      "\n"
     ]
    }
   ],
   "source": [
    "\n",
    "reg = LazyRegressor(verbose=1, ignore_warnings=False, custom_metric=None)\n",
    "models, predictions = reg.fit(X_train, X_test, y_train[\"likes\"], y_test[\"likes\"])\n",
    "\n",
    "print(models)"
   ]
  },
  {
   "cell_type": "code",
   "execution_count": 10,
   "metadata": {},
   "outputs": [],
   "source": [
    "from sklearn.ensemble import RandomForestRegressor\n",
    "\n",
    "clf = RandomForestRegressor(n_estimators=100, n_jobs=-1, verbose=2)"
   ]
  },
  {
   "cell_type": "code",
   "execution_count": 11,
   "metadata": {},
   "outputs": [
    {
     "name": "stderr",
     "output_type": "stream",
     "text": [
      "[Parallel(n_jobs=-1)]: Using backend ThreadingBackend with 12 concurrent workers.\n"
     ]
    },
    {
     "name": "stdout",
     "output_type": "stream",
     "text": [
      "building tree 1 of 100building tree 2 of 100\n",
      "building tree 3 of 100\n",
      "building tree 4 of 100\n",
      "\n",
      "building tree 5 of 100\n",
      "building tree 6 of 100\n",
      "building tree 7 of 100\n",
      "building tree 8 of 100\n",
      "building tree 9 of 100\n",
      "building tree 10 of 100\n",
      "building tree 11 of 100\n",
      "building tree 12 of 100\n",
      "building tree 13 of 100\n",
      "building tree 14 of 100\n",
      "building tree 15 of 100\n",
      "building tree 16 of 100\n",
      "building tree 17 of 100\n",
      "building tree 18 of 100\n",
      "building tree 19 of 100\n",
      "building tree 20 of 100\n",
      "building tree 21 of 100\n",
      "building tree 22 of 100\n",
      "building tree 23 of 100\n",
      "building tree 24 of 100\n",
      "building tree 25 of 100\n",
      "building tree 26 of 100\n",
      "building tree 27 of 100\n",
      "building tree 28 of 100\n",
      "building tree 29 of 100\n",
      "building tree 30 of 100\n"
     ]
    },
    {
     "name": "stderr",
     "output_type": "stream",
     "text": [
      "[Parallel(n_jobs=-1)]: Done  17 tasks      | elapsed:  1.0min\n"
     ]
    },
    {
     "name": "stdout",
     "output_type": "stream",
     "text": [
      "building tree 31 of 100\n",
      "building tree 32 of 100\n",
      "building tree 33 of 100\n",
      "building tree 34 of 100\n",
      "building tree 35 of 100\n",
      "building tree 36 of 100\n",
      "building tree 37 of 100\n",
      "building tree 38 of 100\n",
      "building tree 39 of 100\n",
      "building tree 40 of 100\n",
      "building tree 41 of 100\n",
      "building tree 42 of 100\n",
      "building tree 43 of 100\n",
      "building tree 44 of 100\n",
      "building tree 45 of 100\n",
      "building tree 46 of 100\n",
      "building tree 47 of 100\n",
      "building tree 48 of 100\n",
      "building tree 49 of 100\n",
      "building tree 50 of 100\n",
      "building tree 51 of 100\n",
      "building tree 52 of 100\n",
      "building tree 53 of 100\n",
      "building tree 54 of 100\n",
      "building tree 55 of 100\n",
      "building tree 56 of 100\n",
      "building tree 57 of 100\n",
      "building tree 58 of 100\n",
      "building tree 59 of 100\n",
      "building tree 60 of 100\n",
      "building tree 61 of 100\n",
      "building tree 62 of 100\n",
      "building tree 63 of 100\n",
      "building tree 64 of 100\n",
      "building tree 65 of 100\n",
      "building tree 66 of 100\n",
      "building tree 67 of 100\n",
      "building tree 68 of 100\n",
      "building tree 69 of 100\n",
      "building tree 70 of 100\n",
      "building tree 71 of 100\n",
      "building tree 72 of 100\n",
      "building tree 73 of 100\n",
      "building tree 74 of 100\n",
      "building tree 75 of 100\n",
      "building tree 76 of 100\n",
      "building tree 77 of 100\n",
      "building tree 78 of 100\n",
      "building tree 79 of 100\n",
      "building tree 80 of 100\n",
      "building tree 81 of 100\n",
      "building tree 82 of 100\n",
      "building tree 83 of 100\n",
      "building tree 84 of 100\n",
      "building tree 85 of 100\n",
      "building tree 86 of 100\n",
      "building tree 87 of 100\n",
      "building tree 88 of 100\n",
      "building tree 89 of 100\n",
      "building tree 90 of 100\n",
      "building tree 91 of 100\n",
      "building tree 92 of 100\n",
      "building tree 93 of 100\n",
      "building tree 94 of 100\n",
      "building tree 95 of 100\n",
      "building tree 96 of 100\n",
      "building tree 97 of 100\n",
      "building tree 98 of 100\n",
      "building tree 99 of 100\n",
      "building tree 100 of 100\n"
     ]
    },
    {
     "name": "stderr",
     "output_type": "stream",
     "text": [
      "[Parallel(n_jobs=-1)]: Done 100 out of 100 | elapsed:  4.4min finished\n"
     ]
    },
    {
     "data": {
      "text/html": [
       "<style>#sk-container-id-1 {\n",
       "  /* Definition of color scheme common for light and dark mode */\n",
       "  --sklearn-color-text: black;\n",
       "  --sklearn-color-line: gray;\n",
       "  /* Definition of color scheme for unfitted estimators */\n",
       "  --sklearn-color-unfitted-level-0: #fff5e6;\n",
       "  --sklearn-color-unfitted-level-1: #f6e4d2;\n",
       "  --sklearn-color-unfitted-level-2: #ffe0b3;\n",
       "  --sklearn-color-unfitted-level-3: chocolate;\n",
       "  /* Definition of color scheme for fitted estimators */\n",
       "  --sklearn-color-fitted-level-0: #f0f8ff;\n",
       "  --sklearn-color-fitted-level-1: #d4ebff;\n",
       "  --sklearn-color-fitted-level-2: #b3dbfd;\n",
       "  --sklearn-color-fitted-level-3: cornflowerblue;\n",
       "\n",
       "  /* Specific color for light theme */\n",
       "  --sklearn-color-text-on-default-background: var(--sg-text-color, var(--theme-code-foreground, var(--jp-content-font-color1, black)));\n",
       "  --sklearn-color-background: var(--sg-background-color, var(--theme-background, var(--jp-layout-color0, white)));\n",
       "  --sklearn-color-border-box: var(--sg-text-color, var(--theme-code-foreground, var(--jp-content-font-color1, black)));\n",
       "  --sklearn-color-icon: #696969;\n",
       "\n",
       "  @media (prefers-color-scheme: dark) {\n",
       "    /* Redefinition of color scheme for dark theme */\n",
       "    --sklearn-color-text-on-default-background: var(--sg-text-color, var(--theme-code-foreground, var(--jp-content-font-color1, white)));\n",
       "    --sklearn-color-background: var(--sg-background-color, var(--theme-background, var(--jp-layout-color0, #111)));\n",
       "    --sklearn-color-border-box: var(--sg-text-color, var(--theme-code-foreground, var(--jp-content-font-color1, white)));\n",
       "    --sklearn-color-icon: #878787;\n",
       "  }\n",
       "}\n",
       "\n",
       "#sk-container-id-1 {\n",
       "  color: var(--sklearn-color-text);\n",
       "}\n",
       "\n",
       "#sk-container-id-1 pre {\n",
       "  padding: 0;\n",
       "}\n",
       "\n",
       "#sk-container-id-1 input.sk-hidden--visually {\n",
       "  border: 0;\n",
       "  clip: rect(1px 1px 1px 1px);\n",
       "  clip: rect(1px, 1px, 1px, 1px);\n",
       "  height: 1px;\n",
       "  margin: -1px;\n",
       "  overflow: hidden;\n",
       "  padding: 0;\n",
       "  position: absolute;\n",
       "  width: 1px;\n",
       "}\n",
       "\n",
       "#sk-container-id-1 div.sk-dashed-wrapped {\n",
       "  border: 1px dashed var(--sklearn-color-line);\n",
       "  margin: 0 0.4em 0.5em 0.4em;\n",
       "  box-sizing: border-box;\n",
       "  padding-bottom: 0.4em;\n",
       "  background-color: var(--sklearn-color-background);\n",
       "}\n",
       "\n",
       "#sk-container-id-1 div.sk-container {\n",
       "  /* jupyter's `normalize.less` sets `[hidden] { display: none; }`\n",
       "     but bootstrap.min.css set `[hidden] { display: none !important; }`\n",
       "     so we also need the `!important` here to be able to override the\n",
       "     default hidden behavior on the sphinx rendered scikit-learn.org.\n",
       "     See: https://github.com/scikit-learn/scikit-learn/issues/21755 */\n",
       "  display: inline-block !important;\n",
       "  position: relative;\n",
       "}\n",
       "\n",
       "#sk-container-id-1 div.sk-text-repr-fallback {\n",
       "  display: none;\n",
       "}\n",
       "\n",
       "div.sk-parallel-item,\n",
       "div.sk-serial,\n",
       "div.sk-item {\n",
       "  /* draw centered vertical line to link estimators */\n",
       "  background-image: linear-gradient(var(--sklearn-color-text-on-default-background), var(--sklearn-color-text-on-default-background));\n",
       "  background-size: 2px 100%;\n",
       "  background-repeat: no-repeat;\n",
       "  background-position: center center;\n",
       "}\n",
       "\n",
       "/* Parallel-specific style estimator block */\n",
       "\n",
       "#sk-container-id-1 div.sk-parallel-item::after {\n",
       "  content: \"\";\n",
       "  width: 100%;\n",
       "  border-bottom: 2px solid var(--sklearn-color-text-on-default-background);\n",
       "  flex-grow: 1;\n",
       "}\n",
       "\n",
       "#sk-container-id-1 div.sk-parallel {\n",
       "  display: flex;\n",
       "  align-items: stretch;\n",
       "  justify-content: center;\n",
       "  background-color: var(--sklearn-color-background);\n",
       "  position: relative;\n",
       "}\n",
       "\n",
       "#sk-container-id-1 div.sk-parallel-item {\n",
       "  display: flex;\n",
       "  flex-direction: column;\n",
       "}\n",
       "\n",
       "#sk-container-id-1 div.sk-parallel-item:first-child::after {\n",
       "  align-self: flex-end;\n",
       "  width: 50%;\n",
       "}\n",
       "\n",
       "#sk-container-id-1 div.sk-parallel-item:last-child::after {\n",
       "  align-self: flex-start;\n",
       "  width: 50%;\n",
       "}\n",
       "\n",
       "#sk-container-id-1 div.sk-parallel-item:only-child::after {\n",
       "  width: 0;\n",
       "}\n",
       "\n",
       "/* Serial-specific style estimator block */\n",
       "\n",
       "#sk-container-id-1 div.sk-serial {\n",
       "  display: flex;\n",
       "  flex-direction: column;\n",
       "  align-items: center;\n",
       "  background-color: var(--sklearn-color-background);\n",
       "  padding-right: 1em;\n",
       "  padding-left: 1em;\n",
       "}\n",
       "\n",
       "\n",
       "/* Toggleable style: style used for estimator/Pipeline/ColumnTransformer box that is\n",
       "clickable and can be expanded/collapsed.\n",
       "- Pipeline and ColumnTransformer use this feature and define the default style\n",
       "- Estimators will overwrite some part of the style using the `sk-estimator` class\n",
       "*/\n",
       "\n",
       "/* Pipeline and ColumnTransformer style (default) */\n",
       "\n",
       "#sk-container-id-1 div.sk-toggleable {\n",
       "  /* Default theme specific background. It is overwritten whether we have a\n",
       "  specific estimator or a Pipeline/ColumnTransformer */\n",
       "  background-color: var(--sklearn-color-background);\n",
       "}\n",
       "\n",
       "/* Toggleable label */\n",
       "#sk-container-id-1 label.sk-toggleable__label {\n",
       "  cursor: pointer;\n",
       "  display: block;\n",
       "  width: 100%;\n",
       "  margin-bottom: 0;\n",
       "  padding: 0.5em;\n",
       "  box-sizing: border-box;\n",
       "  text-align: center;\n",
       "}\n",
       "\n",
       "#sk-container-id-1 label.sk-toggleable__label-arrow:before {\n",
       "  /* Arrow on the left of the label */\n",
       "  content: \"▸\";\n",
       "  float: left;\n",
       "  margin-right: 0.25em;\n",
       "  color: var(--sklearn-color-icon);\n",
       "}\n",
       "\n",
       "#sk-container-id-1 label.sk-toggleable__label-arrow:hover:before {\n",
       "  color: var(--sklearn-color-text);\n",
       "}\n",
       "\n",
       "/* Toggleable content - dropdown */\n",
       "\n",
       "#sk-container-id-1 div.sk-toggleable__content {\n",
       "  max-height: 0;\n",
       "  max-width: 0;\n",
       "  overflow: hidden;\n",
       "  text-align: left;\n",
       "  /* unfitted */\n",
       "  background-color: var(--sklearn-color-unfitted-level-0);\n",
       "}\n",
       "\n",
       "#sk-container-id-1 div.sk-toggleable__content.fitted {\n",
       "  /* fitted */\n",
       "  background-color: var(--sklearn-color-fitted-level-0);\n",
       "}\n",
       "\n",
       "#sk-container-id-1 div.sk-toggleable__content pre {\n",
       "  margin: 0.2em;\n",
       "  border-radius: 0.25em;\n",
       "  color: var(--sklearn-color-text);\n",
       "  /* unfitted */\n",
       "  background-color: var(--sklearn-color-unfitted-level-0);\n",
       "}\n",
       "\n",
       "#sk-container-id-1 div.sk-toggleable__content.fitted pre {\n",
       "  /* unfitted */\n",
       "  background-color: var(--sklearn-color-fitted-level-0);\n",
       "}\n",
       "\n",
       "#sk-container-id-1 input.sk-toggleable__control:checked~div.sk-toggleable__content {\n",
       "  /* Expand drop-down */\n",
       "  max-height: 200px;\n",
       "  max-width: 100%;\n",
       "  overflow: auto;\n",
       "}\n",
       "\n",
       "#sk-container-id-1 input.sk-toggleable__control:checked~label.sk-toggleable__label-arrow:before {\n",
       "  content: \"▾\";\n",
       "}\n",
       "\n",
       "/* Pipeline/ColumnTransformer-specific style */\n",
       "\n",
       "#sk-container-id-1 div.sk-label input.sk-toggleable__control:checked~label.sk-toggleable__label {\n",
       "  color: var(--sklearn-color-text);\n",
       "  background-color: var(--sklearn-color-unfitted-level-2);\n",
       "}\n",
       "\n",
       "#sk-container-id-1 div.sk-label.fitted input.sk-toggleable__control:checked~label.sk-toggleable__label {\n",
       "  background-color: var(--sklearn-color-fitted-level-2);\n",
       "}\n",
       "\n",
       "/* Estimator-specific style */\n",
       "\n",
       "/* Colorize estimator box */\n",
       "#sk-container-id-1 div.sk-estimator input.sk-toggleable__control:checked~label.sk-toggleable__label {\n",
       "  /* unfitted */\n",
       "  background-color: var(--sklearn-color-unfitted-level-2);\n",
       "}\n",
       "\n",
       "#sk-container-id-1 div.sk-estimator.fitted input.sk-toggleable__control:checked~label.sk-toggleable__label {\n",
       "  /* fitted */\n",
       "  background-color: var(--sklearn-color-fitted-level-2);\n",
       "}\n",
       "\n",
       "#sk-container-id-1 div.sk-label label.sk-toggleable__label,\n",
       "#sk-container-id-1 div.sk-label label {\n",
       "  /* The background is the default theme color */\n",
       "  color: var(--sklearn-color-text-on-default-background);\n",
       "}\n",
       "\n",
       "/* On hover, darken the color of the background */\n",
       "#sk-container-id-1 div.sk-label:hover label.sk-toggleable__label {\n",
       "  color: var(--sklearn-color-text);\n",
       "  background-color: var(--sklearn-color-unfitted-level-2);\n",
       "}\n",
       "\n",
       "/* Label box, darken color on hover, fitted */\n",
       "#sk-container-id-1 div.sk-label.fitted:hover label.sk-toggleable__label.fitted {\n",
       "  color: var(--sklearn-color-text);\n",
       "  background-color: var(--sklearn-color-fitted-level-2);\n",
       "}\n",
       "\n",
       "/* Estimator label */\n",
       "\n",
       "#sk-container-id-1 div.sk-label label {\n",
       "  font-family: monospace;\n",
       "  font-weight: bold;\n",
       "  display: inline-block;\n",
       "  line-height: 1.2em;\n",
       "}\n",
       "\n",
       "#sk-container-id-1 div.sk-label-container {\n",
       "  text-align: center;\n",
       "}\n",
       "\n",
       "/* Estimator-specific */\n",
       "#sk-container-id-1 div.sk-estimator {\n",
       "  font-family: monospace;\n",
       "  border: 1px dotted var(--sklearn-color-border-box);\n",
       "  border-radius: 0.25em;\n",
       "  box-sizing: border-box;\n",
       "  margin-bottom: 0.5em;\n",
       "  /* unfitted */\n",
       "  background-color: var(--sklearn-color-unfitted-level-0);\n",
       "}\n",
       "\n",
       "#sk-container-id-1 div.sk-estimator.fitted {\n",
       "  /* fitted */\n",
       "  background-color: var(--sklearn-color-fitted-level-0);\n",
       "}\n",
       "\n",
       "/* on hover */\n",
       "#sk-container-id-1 div.sk-estimator:hover {\n",
       "  /* unfitted */\n",
       "  background-color: var(--sklearn-color-unfitted-level-2);\n",
       "}\n",
       "\n",
       "#sk-container-id-1 div.sk-estimator.fitted:hover {\n",
       "  /* fitted */\n",
       "  background-color: var(--sklearn-color-fitted-level-2);\n",
       "}\n",
       "\n",
       "/* Specification for estimator info (e.g. \"i\" and \"?\") */\n",
       "\n",
       "/* Common style for \"i\" and \"?\" */\n",
       "\n",
       ".sk-estimator-doc-link,\n",
       "a:link.sk-estimator-doc-link,\n",
       "a:visited.sk-estimator-doc-link {\n",
       "  float: right;\n",
       "  font-size: smaller;\n",
       "  line-height: 1em;\n",
       "  font-family: monospace;\n",
       "  background-color: var(--sklearn-color-background);\n",
       "  border-radius: 1em;\n",
       "  height: 1em;\n",
       "  width: 1em;\n",
       "  text-decoration: none !important;\n",
       "  margin-left: 1ex;\n",
       "  /* unfitted */\n",
       "  border: var(--sklearn-color-unfitted-level-1) 1pt solid;\n",
       "  color: var(--sklearn-color-unfitted-level-1);\n",
       "}\n",
       "\n",
       ".sk-estimator-doc-link.fitted,\n",
       "a:link.sk-estimator-doc-link.fitted,\n",
       "a:visited.sk-estimator-doc-link.fitted {\n",
       "  /* fitted */\n",
       "  border: var(--sklearn-color-fitted-level-1) 1pt solid;\n",
       "  color: var(--sklearn-color-fitted-level-1);\n",
       "}\n",
       "\n",
       "/* On hover */\n",
       "div.sk-estimator:hover .sk-estimator-doc-link:hover,\n",
       ".sk-estimator-doc-link:hover,\n",
       "div.sk-label-container:hover .sk-estimator-doc-link:hover,\n",
       ".sk-estimator-doc-link:hover {\n",
       "  /* unfitted */\n",
       "  background-color: var(--sklearn-color-unfitted-level-3);\n",
       "  color: var(--sklearn-color-background);\n",
       "  text-decoration: none;\n",
       "}\n",
       "\n",
       "div.sk-estimator.fitted:hover .sk-estimator-doc-link.fitted:hover,\n",
       ".sk-estimator-doc-link.fitted:hover,\n",
       "div.sk-label-container:hover .sk-estimator-doc-link.fitted:hover,\n",
       ".sk-estimator-doc-link.fitted:hover {\n",
       "  /* fitted */\n",
       "  background-color: var(--sklearn-color-fitted-level-3);\n",
       "  color: var(--sklearn-color-background);\n",
       "  text-decoration: none;\n",
       "}\n",
       "\n",
       "/* Span, style for the box shown on hovering the info icon */\n",
       ".sk-estimator-doc-link span {\n",
       "  display: none;\n",
       "  z-index: 9999;\n",
       "  position: relative;\n",
       "  font-weight: normal;\n",
       "  right: .2ex;\n",
       "  padding: .5ex;\n",
       "  margin: .5ex;\n",
       "  width: min-content;\n",
       "  min-width: 20ex;\n",
       "  max-width: 50ex;\n",
       "  color: var(--sklearn-color-text);\n",
       "  box-shadow: 2pt 2pt 4pt #999;\n",
       "  /* unfitted */\n",
       "  background: var(--sklearn-color-unfitted-level-0);\n",
       "  border: .5pt solid var(--sklearn-color-unfitted-level-3);\n",
       "}\n",
       "\n",
       ".sk-estimator-doc-link.fitted span {\n",
       "  /* fitted */\n",
       "  background: var(--sklearn-color-fitted-level-0);\n",
       "  border: var(--sklearn-color-fitted-level-3);\n",
       "}\n",
       "\n",
       ".sk-estimator-doc-link:hover span {\n",
       "  display: block;\n",
       "}\n",
       "\n",
       "/* \"?\"-specific style due to the `<a>` HTML tag */\n",
       "\n",
       "#sk-container-id-1 a.estimator_doc_link {\n",
       "  float: right;\n",
       "  font-size: 1rem;\n",
       "  line-height: 1em;\n",
       "  font-family: monospace;\n",
       "  background-color: var(--sklearn-color-background);\n",
       "  border-radius: 1rem;\n",
       "  height: 1rem;\n",
       "  width: 1rem;\n",
       "  text-decoration: none;\n",
       "  /* unfitted */\n",
       "  color: var(--sklearn-color-unfitted-level-1);\n",
       "  border: var(--sklearn-color-unfitted-level-1) 1pt solid;\n",
       "}\n",
       "\n",
       "#sk-container-id-1 a.estimator_doc_link.fitted {\n",
       "  /* fitted */\n",
       "  border: var(--sklearn-color-fitted-level-1) 1pt solid;\n",
       "  color: var(--sklearn-color-fitted-level-1);\n",
       "}\n",
       "\n",
       "/* On hover */\n",
       "#sk-container-id-1 a.estimator_doc_link:hover {\n",
       "  /* unfitted */\n",
       "  background-color: var(--sklearn-color-unfitted-level-3);\n",
       "  color: var(--sklearn-color-background);\n",
       "  text-decoration: none;\n",
       "}\n",
       "\n",
       "#sk-container-id-1 a.estimator_doc_link.fitted:hover {\n",
       "  /* fitted */\n",
       "  background-color: var(--sklearn-color-fitted-level-3);\n",
       "}\n",
       "</style><div id=\"sk-container-id-1\" class=\"sk-top-container\"><div class=\"sk-text-repr-fallback\"><pre>RandomForestRegressor(n_jobs=-1, verbose=2)</pre><b>In a Jupyter environment, please rerun this cell to show the HTML representation or trust the notebook. <br />On GitHub, the HTML representation is unable to render, please try loading this page with nbviewer.org.</b></div><div class=\"sk-container\" hidden><div class=\"sk-item\"><div class=\"sk-estimator fitted sk-toggleable\"><input class=\"sk-toggleable__control sk-hidden--visually\" id=\"sk-estimator-id-1\" type=\"checkbox\" checked><label for=\"sk-estimator-id-1\" class=\"sk-toggleable__label fitted sk-toggleable__label-arrow fitted\">&nbsp;&nbsp;RandomForestRegressor<a class=\"sk-estimator-doc-link fitted\" rel=\"noreferrer\" target=\"_blank\" href=\"https://scikit-learn.org/1.5/modules/generated/sklearn.ensemble.RandomForestRegressor.html\">?<span>Documentation for RandomForestRegressor</span></a><span class=\"sk-estimator-doc-link fitted\">i<span>Fitted</span></span></label><div class=\"sk-toggleable__content fitted\"><pre>RandomForestRegressor(n_jobs=-1, verbose=2)</pre></div> </div></div></div></div>"
      ],
      "text/plain": [
       "RandomForestRegressor(n_jobs=-1, verbose=2)"
      ]
     },
     "execution_count": 11,
     "metadata": {},
     "output_type": "execute_result"
    }
   ],
   "source": [
    "clf.fit(X_train, y_train[\"view_count\"])"
   ]
  },
  {
   "cell_type": "code",
   "execution_count": 12,
   "metadata": {},
   "outputs": [
    {
     "name": "stderr",
     "output_type": "stream",
     "text": [
      "[Parallel(n_jobs=12)]: Using backend ThreadingBackend with 12 concurrent workers.\n",
      "[Parallel(n_jobs=12)]: Done  17 tasks      | elapsed:    0.2s\n"
     ]
    },
    {
     "name": "stdout",
     "output_type": "stream",
     "text": [
      "MSE: 513196554595514.2\n",
      "R2 Score: 0.18714067669702017\n"
     ]
    },
    {
     "name": "stderr",
     "output_type": "stream",
     "text": [
      "[Parallel(n_jobs=12)]: Done 100 out of 100 | elapsed:    1.3s finished\n"
     ]
    }
   ],
   "source": [
    "from sklearn.metrics import r2_score, mean_squared_error\n",
    "\n",
    "y_pred = clf.predict(X_test)\n",
    "\n",
    "print(f\"MSE: {mean_squared_error(y_test[\"view_count\"], y_pred)}\")\n",
    "print(f\"R2 Score: {r2_score(y_test[\"view_count\"], y_pred)}\")"
   ]
  },
  {
   "cell_type": "code",
   "execution_count": 13,
   "metadata": {},
   "outputs": [],
   "source": [
    "import pickle\n",
    "\n",
    "with open(\"view_complete.pkl\", \"wb\") as f:\n",
    "    pickle.dump(clf, f)"
   ]
  },
  {
   "cell_type": "code",
   "execution_count": 14,
   "metadata": {},
   "outputs": [],
   "source": [
    "with open(\"country_labelencoder.pkl\", \"wb\") as f:\n",
    "    pickle.dump(country_label_encoder, f)\n",
    "\n",
    "with open(\"definition_labelencoder.pkl\", \"wb\") as f:\n",
    "    pickle.dump(definition_label_encoder, f)"
   ]
  },
  {
   "cell_type": "code",
   "execution_count": 17,
   "metadata": {},
   "outputs": [
    {
     "name": "stdout",
     "output_type": "stream",
     "text": [
      "categoryId\n",
      "comments_disabled\n",
      "region\n",
      "duration\n",
      "definition\n",
      "caption\n",
      "comment_sentiment\n",
      "subscribers\n",
      "tag_spotify\n",
      "tag_дмитрий\n",
      "tag_майнкрафт\n",
      "tag_premier\n",
      "tag_discord\n",
      "tag_other\n",
      "tag_show\n",
      "tag_auto\n",
      "tag_2021\n",
      "tag_epidemic\n",
      "tag_анимация\n",
      "tag_вконтакте\n",
      "tag_ferrari\n",
      "tag_instagram\n",
      "tag_война\n",
      "tag_юмор\n",
      "tag_what\n",
      "tag_humour\n",
      "tag_путин\n",
      "tag_links\n",
      "tag_animal\n",
      "tag_episode\n",
      "tag_join\n",
      "tag_путина\n",
      "tag_news\n",
      "tag_song\n",
      "tag_director\n",
      "tag_sports\n",
      "tag_mercedes\n",
      "tag_final\n",
      "tag_сериал\n",
      "tag_если\n",
      "tag_авто\n",
      "tag_videos\n",
      "tag_новости\n",
      "tag_porsche\n",
      "tag_football\n",
      "tag_пожалуйста\n",
      "tag_телега\n",
      "tag_more\n",
      "tag_puppy\n",
      "tag_есть\n",
      "tag_this\n",
      "tag_official\n",
      "tag_free\n",
      "tag_twitter\n",
      "tag_code\n",
      "tag_your\n",
      "tag_группа\n",
      "tag_россии\n",
      "tag_para\n",
      "tag_vlog\n",
      "tag_link\n",
      "tag_family\n",
      "tag_animation\n",
      "tag_from\n",
      "tag_маразм\n",
      "tag_über\n",
      "tag_dans\n",
      "tag_pets\n",
      "tag_will\n",
      "tag_twitch\n",
      "tag_game\n",
      "tag_iphone\n",
      "tag_sport\n",
      "tag_world\n",
      "tag_time\n",
      "tag_with\n",
      "tag_highlights\n",
      "tag_обзор\n",
      "tag_here\n",
      "tag_latest\n",
      "tag_shorts\n",
      "tag_сайт\n",
      "tag_turbo\n",
      "tag_lyrics\n",
      "tag_plus\n",
      "tag_film\n",
      "tag_tuning\n",
      "tag_дмитрий потапенко\n",
      "tag_support\n",
      "tag_audi\n",
      "tag_tiktok\n",
      "tag_потапенко\n",
      "tag_канал\n",
      "tag_production\n",
      "tag_amazon\n",
      "tag_фильмы\n",
      "tag_apple\n",
      "tag_life\n",
      "tag_vidéo\n",
      "tag_channel\n",
      "tag_have\n",
      "tag_которые\n",
      "tag_travel\n",
      "tag_league\n",
      "tag_россия\n",
      "tag_science\n",
      "tag_tech\n",
      "tag_social\n",
      "tag_love\n",
      "tag_pour\n",
      "tag_видео\n",
      "tag_album\n",
      "tag_make\n",
      "tag_sony\n",
      "tag_gameplay\n",
      "tag_oficial\n",
      "tag_producer\n",
      "tag_vlogs\n",
      "tag_фильм\n",
      "tag_champions\n",
      "tag_first\n",
      "tag_vous\n",
      "tag_trailer\n",
      "tag_telegram\n",
      "tag_that\n",
      "tag_music\n",
      "tag_ford\n",
      "tag_youtube\n",
      "tag_животных\n",
      "tag_funny\n",
      "tag_кино\n",
      "tag_subscribe\n",
      "tag_email\n",
      "tag_gaming\n",
      "tag_comedy\n",
      "tag_affiliate\n",
      "tag_watch\n",
      "tag_like\n",
      "tag_minecraft\n",
      "tag_about\n",
      "tag_facebook\n",
      "tag_animals\n",
      "tag_movie\n",
      "tag_dogs\n",
      "tag_follow\n",
      "tag_будет\n",
      "tag_собака\n",
      "tag_меня\n",
      "tag_unboxing\n",
      "tag_video\n",
      "tag_soccer\n",
      "tag_cars\n",
      "tag_политика\n",
      "tag_украина\n",
      "tag_live\n",
      "tag_click\n",
      "log_duration\n"
     ]
    }
   ],
   "source": [
    "print(\"\\n\".join(list(X_train.columns)))"
   ]
  }
 ],
 "metadata": {
  "kernelspec": {
   "display_name": "Python 3",
   "language": "python",
   "name": "python3"
  },
  "language_info": {
   "codemirror_mode": {
    "name": "ipython",
    "version": 3
   },
   "file_extension": ".py",
   "mimetype": "text/x-python",
   "name": "python",
   "nbconvert_exporter": "python",
   "pygments_lexer": "ipython3",
   "version": "3.10.11"
  }
 },
 "nbformat": 4,
 "nbformat_minor": 2
}
